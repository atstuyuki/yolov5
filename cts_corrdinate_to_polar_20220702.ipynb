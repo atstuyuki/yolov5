{
  "nbformat": 4,
  "nbformat_minor": 0,
  "metadata": {
    "colab": {
      "name": "cts_corrdinate_to_polar_20220702",
      "provenance": [],
      "collapsed_sections": [],
      "authorship_tag": "ABX9TyNlh0C8UlpYU1qWxyNPqFNq",
      "include_colab_link": true
    },
    "kernelspec": {
      "name": "python3",
      "display_name": "Python 3"
    },
    "language_info": {
      "name": "python"
    },
    "gpuClass": "standard"
  },
  "cells": [
    {
      "cell_type": "markdown",
      "metadata": {
        "id": "view-in-github",
        "colab_type": "text"
      },
      "source": [
        "<a href=\"https://colab.research.google.com/github/atstuyuki/yolov5/blob/master/cts_corrdinate_to_polar_20220702.ipynb\" target=\"_parent\"><img src=\"https://colab.research.google.com/assets/colab-badge.svg\" alt=\"Open In Colab\"/></a>"
      ]
    },
    {
      "cell_type": "markdown",
      "source": [
        "#nerve_corrdinates.CSVから極座標変換とploar plotする"
      ],
      "metadata": {
        "id": "QcZULwhqmZox"
      }
    },
    {
      "cell_type": "code",
      "source": [
        "#CSVファイルをup_load\n",
        "\n",
        "from google.colab import files\n",
        "import os\n",
        "uploaded = files.upload()\n",
        "#uploadedは辞書型なのでファイル名を取り出し、絶対パスを取得してfullpathという変数を当てる\n",
        "for k in uploaded.keys():\n",
        "  print('file name:',k)\n",
        "fullpath_csv=os.path.abspath(k)\n",
        "print('fullpath:',fullpath_csv)"
      ],
      "metadata": {
        "id": "AmbczD9nznVc",
        "outputId": "c8124668-f269-4899-e250-d2e01f2e4255",
        "colab": {
          "resources": {
            "http://localhost:8080/nbextensions/google.colab/files.js": {
              "data": "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",
              "ok": true,
              "headers": [
                [
                  "content-type",
                  "application/javascript"
                ]
              ],
              "status": 200,
              "status_text": ""
            }
          },
          "base_uri": "https://localhost:8080/",
          "height": 115
        }
      },
      "execution_count": 18,
      "outputs": [
        {
          "output_type": "display_data",
          "data": {
            "text/plain": [
              "<IPython.core.display.HTML object>"
            ],
            "text/html": [
              "\n",
              "     <input type=\"file\" id=\"files-c86f8bfe-c6a1-48b2-895a-9638ed779c77\" name=\"files[]\" multiple disabled\n",
              "        style=\"border:none\" />\n",
              "     <output id=\"result-c86f8bfe-c6a1-48b2-895a-9638ed779c77\">\n",
              "      Upload widget is only available when the cell has been executed in the\n",
              "      current browser session. Please rerun this cell to enable.\n",
              "      </output>\n",
              "      <script src=\"/nbextensions/google.colab/files.js\"></script> "
            ]
          },
          "metadata": {}
        },
        {
          "output_type": "stream",
          "name": "stdout",
          "text": [
            "Saving nerve_corrdinates (CTS2).csv to nerve_corrdinates (CTS2).csv\n",
            "file name: nerve_corrdinates (CTS2).csv\n",
            "fullpath: /content/nerve_corrdinates (CTS2).csv\n"
          ]
        }
      ]
    },
    {
      "cell_type": "code",
      "source": [
        "#CSVファイルの読み込みとデータフレームに変換\n",
        "import csv\n",
        "import pandas as pd\n",
        "df_csv=pd.read_csv(fullpath_csv, header=0,names=['frame_num','x_corr','y_corr'])\n",
        "df_csv=df_csv.astype(float)\n",
        "df_csv"
      ],
      "metadata": {
        "id": "Pb2f3DUH0sdQ",
        "outputId": "c189972e-e6a6-4401-ef12-c96f25019379",
        "colab": {
          "base_uri": "https://localhost:8080/",
          "height": 424
        }
      },
      "execution_count": 19,
      "outputs": [
        {
          "output_type": "execute_result",
          "data": {
            "text/plain": [
              "     frame_num  x_corr    y_corr\n",
              "0          1.0 -0.1125  0.012510\n",
              "1          2.0 -0.3750 -0.074994\n",
              "2          3.0 -0.3125 -0.037489\n",
              "3          4.0 -0.5375 -0.074994\n",
              "4          5.0 -0.8500 -0.124992\n",
              "..         ...     ...       ...\n",
              "265      273.0  0.1000  0.025003\n",
              "266      275.0  0.1125  0.025003\n",
              "267      277.0  0.1625  0.037505\n",
              "268      279.0  0.1625  0.037505\n",
              "269      281.0  0.1625  0.037505\n",
              "\n",
              "[270 rows x 3 columns]"
            ],
            "text/html": [
              "\n",
              "  <div id=\"df-4a6b9f9d-1f3b-49f9-9d83-4d52ff32e59f\">\n",
              "    <div class=\"colab-df-container\">\n",
              "      <div>\n",
              "<style scoped>\n",
              "    .dataframe tbody tr th:only-of-type {\n",
              "        vertical-align: middle;\n",
              "    }\n",
              "\n",
              "    .dataframe tbody tr th {\n",
              "        vertical-align: top;\n",
              "    }\n",
              "\n",
              "    .dataframe thead th {\n",
              "        text-align: right;\n",
              "    }\n",
              "</style>\n",
              "<table border=\"1\" class=\"dataframe\">\n",
              "  <thead>\n",
              "    <tr style=\"text-align: right;\">\n",
              "      <th></th>\n",
              "      <th>frame_num</th>\n",
              "      <th>x_corr</th>\n",
              "      <th>y_corr</th>\n",
              "    </tr>\n",
              "  </thead>\n",
              "  <tbody>\n",
              "    <tr>\n",
              "      <th>0</th>\n",
              "      <td>1.0</td>\n",
              "      <td>-0.1125</td>\n",
              "      <td>0.012510</td>\n",
              "    </tr>\n",
              "    <tr>\n",
              "      <th>1</th>\n",
              "      <td>2.0</td>\n",
              "      <td>-0.3750</td>\n",
              "      <td>-0.074994</td>\n",
              "    </tr>\n",
              "    <tr>\n",
              "      <th>2</th>\n",
              "      <td>3.0</td>\n",
              "      <td>-0.3125</td>\n",
              "      <td>-0.037489</td>\n",
              "    </tr>\n",
              "    <tr>\n",
              "      <th>3</th>\n",
              "      <td>4.0</td>\n",
              "      <td>-0.5375</td>\n",
              "      <td>-0.074994</td>\n",
              "    </tr>\n",
              "    <tr>\n",
              "      <th>4</th>\n",
              "      <td>5.0</td>\n",
              "      <td>-0.8500</td>\n",
              "      <td>-0.124992</td>\n",
              "    </tr>\n",
              "    <tr>\n",
              "      <th>...</th>\n",
              "      <td>...</td>\n",
              "      <td>...</td>\n",
              "      <td>...</td>\n",
              "    </tr>\n",
              "    <tr>\n",
              "      <th>265</th>\n",
              "      <td>273.0</td>\n",
              "      <td>0.1000</td>\n",
              "      <td>0.025003</td>\n",
              "    </tr>\n",
              "    <tr>\n",
              "      <th>266</th>\n",
              "      <td>275.0</td>\n",
              "      <td>0.1125</td>\n",
              "      <td>0.025003</td>\n",
              "    </tr>\n",
              "    <tr>\n",
              "      <th>267</th>\n",
              "      <td>277.0</td>\n",
              "      <td>0.1625</td>\n",
              "      <td>0.037505</td>\n",
              "    </tr>\n",
              "    <tr>\n",
              "      <th>268</th>\n",
              "      <td>279.0</td>\n",
              "      <td>0.1625</td>\n",
              "      <td>0.037505</td>\n",
              "    </tr>\n",
              "    <tr>\n",
              "      <th>269</th>\n",
              "      <td>281.0</td>\n",
              "      <td>0.1625</td>\n",
              "      <td>0.037505</td>\n",
              "    </tr>\n",
              "  </tbody>\n",
              "</table>\n",
              "<p>270 rows × 3 columns</p>\n",
              "</div>\n",
              "      <button class=\"colab-df-convert\" onclick=\"convertToInteractive('df-4a6b9f9d-1f3b-49f9-9d83-4d52ff32e59f')\"\n",
              "              title=\"Convert this dataframe to an interactive table.\"\n",
              "              style=\"display:none;\">\n",
              "        \n",
              "  <svg xmlns=\"http://www.w3.org/2000/svg\" height=\"24px\"viewBox=\"0 0 24 24\"\n",
              "       width=\"24px\">\n",
              "    <path d=\"M0 0h24v24H0V0z\" fill=\"none\"/>\n",
              "    <path d=\"M18.56 5.44l.94 2.06.94-2.06 2.06-.94-2.06-.94-.94-2.06-.94 2.06-2.06.94zm-11 1L8.5 8.5l.94-2.06 2.06-.94-2.06-.94L8.5 2.5l-.94 2.06-2.06.94zm10 10l.94 2.06.94-2.06 2.06-.94-2.06-.94-.94-2.06-.94 2.06-2.06.94z\"/><path d=\"M17.41 7.96l-1.37-1.37c-.4-.4-.92-.59-1.43-.59-.52 0-1.04.2-1.43.59L10.3 9.45l-7.72 7.72c-.78.78-.78 2.05 0 2.83L4 21.41c.39.39.9.59 1.41.59.51 0 1.02-.2 1.41-.59l7.78-7.78 2.81-2.81c.8-.78.8-2.07 0-2.86zM5.41 20L4 18.59l7.72-7.72 1.47 1.35L5.41 20z\"/>\n",
              "  </svg>\n",
              "      </button>\n",
              "      \n",
              "  <style>\n",
              "    .colab-df-container {\n",
              "      display:flex;\n",
              "      flex-wrap:wrap;\n",
              "      gap: 12px;\n",
              "    }\n",
              "\n",
              "    .colab-df-convert {\n",
              "      background-color: #E8F0FE;\n",
              "      border: none;\n",
              "      border-radius: 50%;\n",
              "      cursor: pointer;\n",
              "      display: none;\n",
              "      fill: #1967D2;\n",
              "      height: 32px;\n",
              "      padding: 0 0 0 0;\n",
              "      width: 32px;\n",
              "    }\n",
              "\n",
              "    .colab-df-convert:hover {\n",
              "      background-color: #E2EBFA;\n",
              "      box-shadow: 0px 1px 2px rgba(60, 64, 67, 0.3), 0px 1px 3px 1px rgba(60, 64, 67, 0.15);\n",
              "      fill: #174EA6;\n",
              "    }\n",
              "\n",
              "    [theme=dark] .colab-df-convert {\n",
              "      background-color: #3B4455;\n",
              "      fill: #D2E3FC;\n",
              "    }\n",
              "\n",
              "    [theme=dark] .colab-df-convert:hover {\n",
              "      background-color: #434B5C;\n",
              "      box-shadow: 0px 1px 3px 1px rgba(0, 0, 0, 0.15);\n",
              "      filter: drop-shadow(0px 1px 2px rgba(0, 0, 0, 0.3));\n",
              "      fill: #FFFFFF;\n",
              "    }\n",
              "  </style>\n",
              "\n",
              "      <script>\n",
              "        const buttonEl =\n",
              "          document.querySelector('#df-4a6b9f9d-1f3b-49f9-9d83-4d52ff32e59f button.colab-df-convert');\n",
              "        buttonEl.style.display =\n",
              "          google.colab.kernel.accessAllowed ? 'block' : 'none';\n",
              "\n",
              "        async function convertToInteractive(key) {\n",
              "          const element = document.querySelector('#df-4a6b9f9d-1f3b-49f9-9d83-4d52ff32e59f');\n",
              "          const dataTable =\n",
              "            await google.colab.kernel.invokeFunction('convertToInteractive',\n",
              "                                                     [key], {});\n",
              "          if (!dataTable) return;\n",
              "\n",
              "          const docLinkHtml = 'Like what you see? Visit the ' +\n",
              "            '<a target=\"_blank\" href=https://colab.research.google.com/notebooks/data_table.ipynb>data table notebook</a>'\n",
              "            + ' to learn more about interactive tables.';\n",
              "          element.innerHTML = '';\n",
              "          dataTable['output_type'] = 'display_data';\n",
              "          await google.colab.output.renderOutput(dataTable, element);\n",
              "          const docLink = document.createElement('div');\n",
              "          docLink.innerHTML = docLinkHtml;\n",
              "          element.appendChild(docLink);\n",
              "        }\n",
              "      </script>\n",
              "    </div>\n",
              "  </div>\n",
              "  "
            ]
          },
          "metadata": {},
          "execution_count": 19
        }
      ]
    },
    {
      "cell_type": "markdown",
      "source": [
        "#x,y 座標より極座標系に座標変換"
      ],
      "metadata": {
        "id": "FuNKiaB1y5k7"
      }
    },
    {
      "cell_type": "code",
      "source": [
        "import numpy as np\n",
        "x_cor=df_csv['x_corr']\n",
        "y_cor=df_csv['y_corr']\n",
        "#seriesをnumpy.ndarrayに変換\n",
        "x_cor=x_cor.values\n",
        "y_cor=y_cor.values\n",
        "#直交座標を極座標変換\n",
        "distance=(x_cor**2+y_cor**2)**0.5\n",
        "rad=np.arctan2(y_cor, x_cor)#引数はy座標 x座標の順 radianを計算\n",
        "degrees=np.degrees(rad)#角度に戻す"
      ],
      "metadata": {
        "id": "jj_-HDd22TKE"
      },
      "execution_count": 20,
      "outputs": []
    },
    {
      "cell_type": "code",
      "source": [
        "#各フレーム間での移動距離、フレーム毎での移動角度を計算\n",
        "#1行ずらした行列を作成する\n",
        "x_cor_1st=x_cor[1:]#最初の1行（0番目）を削除\n",
        "x_cor_2nd=x_cor[:-1]#最後の1行を削除\n",
        "y_cor_1st=y_cor[1:]#最初の1行（0番目）を削除\n",
        "y_cor_2nd=y_cor[:-1]#最後の1行を削除\n",
        "#ループ処理せず行列ごと演算\n",
        "delta_distance=((x_cor_1st-x_cor_2nd)**2+(y_cor_1st-y_cor_2nd)**2)**0.5\n",
        "delta_rad=np.arctan2((y_cor_2nd-y_cor_1st), (x_cor_2nd-x_cor_1st))#引数はy座標 x座標の順\n",
        "delta_degrees=np.degrees(rad)#degreesというpd.ndarrayが帰ってくる"
      ],
      "metadata": {
        "id": "p83E3GyqG-P6"
      },
      "execution_count": 21,
      "outputs": []
    },
    {
      "cell_type": "markdown",
      "source": [
        "#横軸に時間軸　縦軸に各フレーム間での移動量をプロット\n"
      ],
      "metadata": {
        "id": "6IqJrjPe548c"
      }
    },
    {
      "cell_type": "code",
      "source": [
        "#@title\n",
        "#plotlyでグラフを可視化\n",
        "\n",
        "import plotly\n",
        "import plotly.graph_objs as go\n",
        "# Google Colab. やJupyter Lab.でプロットするためには，以下を実行する．\n",
        "import plotly.io as pio\n",
        "pio.renderers.default = \"colab\"\n",
        "fig = go.Figure() # 1 \n",
        "\n",
        "fig.add_trace(    #2. グラフを追加・記述する\n",
        "    go.Scatter(x = df_csv['frame_num'], y = delta_distance,\n",
        "                  name='delta_distance'))\n",
        "\n",
        "fig.update_layout( #3. グラフの装飾、制限を追加(titleの表示、x軸の最大値など)\n",
        "    title = 'nerve movement over time',\n",
        "    xaxis_title = 'frame number',\n",
        "    yaxis_title = 'delta distance(mm)',\n",
        "    showlegend = True\n",
        ")\n",
        "fig.show() #4.グラフの描画\n"
      ],
      "metadata": {
        "id": "ND6sdTFx54cD",
        "colab": {
          "base_uri": "https://localhost:8080/",
          "height": 542
        },
        "outputId": "641cdb60-9b91-459e-c47d-595f0089ab8c"
      },
      "execution_count": 22,
      "outputs": [
        {
          "output_type": "display_data",
          "data": {
            "text/html": [
              "<html>\n",
              "<head><meta charset=\"utf-8\" /></head>\n",
              "<body>\n",
              "    <div>            <script src=\"https://cdnjs.cloudflare.com/ajax/libs/mathjax/2.7.5/MathJax.js?config=TeX-AMS-MML_SVG\"></script><script type=\"text/javascript\">if (window.MathJax) {MathJax.Hub.Config({SVG: {font: \"STIX-Web\"}});}</script>                <script type=\"text/javascript\">window.PlotlyConfig = {MathJaxConfig: 'local'};</script>\n",
              "        <script src=\"https://cdn.plot.ly/plotly-2.8.3.min.js\"></script>                <div id=\"d1cd926e-e039-4b08-8a1f-4aa89253955c\" class=\"plotly-graph-div\" style=\"height:525px; width:100%;\"></div>            <script type=\"text/javascript\">                                    window.PLOTLYENV=window.PLOTLYENV || {};                                    if (document.getElementById(\"d1cd926e-e039-4b08-8a1f-4aa89253955c\")) {                    Plotly.newPlot(                        \"d1cd926e-e039-4b08-8a1f-4aa89253955c\",                        [{\"name\":\"delta_distance\",\"x\":[1.0,2.0,3.0,4.0,5.0,6.0,7.0,8.0,9.0,10.0,11.0,12.0,13.0,14.0,15.0,16.0,17.0,18.0,19.0,20.0,21.0,22.0,23.0,24.0,25.0,26.0,27.0,28.0,29.0,30.0,31.0,32.0,33.0,34.0,35.0,36.0,37.0,38.0,39.0,40.0,41.0,42.0,43.0,44.0,45.0,46.0,47.0,48.0,49.0,50.0,51.0,52.0,53.0,54.0,55.0,56.0,57.0,58.0,59.0,60.0,61.0,62.0,63.0,64.0,65.0,66.0,67.0,68.0,69.0,70.0,71.0,72.0,73.0,74.0,75.0,76.0,77.0,78.0,79.0,80.0,81.0,82.0,83.0,84.0,85.0,86.0,87.0,88.0,89.0,90.0,91.0,92.0,93.0,94.0,95.0,96.0,97.0,98.0,99.0,100.0,101.0,102.0,103.0,104.0,105.0,106.0,107.0,108.0,109.0,110.0,111.0,112.0,113.0,114.0,115.0,116.0,117.0,118.0,119.0,120.0,121.0,122.0,123.0,124.0,125.0,126.0,127.0,128.0,129.0,130.0,131.0,132.0,133.0,134.0,135.0,136.0,137.0,138.0,139.0,140.0,141.0,142.0,143.0,144.0,145.0,146.0,147.0,148.0,149.0,150.0,151.0,152.0,153.0,154.0,155.0,156.0,157.0,158.0,159.0,160.0,161.0,162.0,163.0,164.0,165.0,166.0,167.0,168.0,169.0,170.0,171.0,172.0,173.0,174.0,175.0,176.0,177.0,178.0,179.0,180.0,181.0,182.0,183.0,184.0,185.0,186.0,187.0,188.0,189.0,190.0,191.0,192.0,193.0,194.0,195.0,196.0,197.0,198.0,199.0,200.0,201.0,202.0,203.0,204.0,205.0,206.0,207.0,208.0,209.0,210.0,211.0,212.0,213.0,214.0,215.0,216.0,217.0,218.0,219.0,220.0,221.0,222.0,223.0,224.0,225.0,226.0,227.0,228.0,229.0,230.0,231.0,232.0,233.0,234.0,235.0,236.0,238.0,240.0,241.0,242.0,243.0,244.0,245.0,246.0,247.0,248.0,249.0,250.0,251.0,252.0,253.0,254.0,255.0,256.0,257.0,258.0,259.0,260.0,261.0,262.0,263.0,265.0,267.0,269.0,271.0,273.0,275.0,277.0,279.0,281.0],\"y\":[0.27670040208183655,0.07288944556314378,0.22810440871342774,0.3164744934463163,0.3801713676904438,0.0,0.1875,0.6828266654260142,0.30026003736921086,0.05153741361479546,0.15104148873095283,0.45500476652286015,0.48250706083352024,0.0,0.8822023400283874,0.649639399975217,0.9632304351890584,0.4339145797415084,0.28201289864125023,0.053030816603273294,0.03535767258870408,0.012499999999999956,0.0,0.039525529846037466,0.0,0.2752836537845281,0.4487842243512159,0.1789735385564652,0.1879163144932406,0.06249814004920461,0.1152450216316957,0.1250011100087615,0.11319249645061498,0.0,0.05303081660327322,0.03750495,0.05302512493452985,0.025000000000000022,0.03749999999999998,0.17500000000000004,0.10077750246013494,0.142518994784283,0.050000000000000044,0.03748884999999999,0.1767760236077351,0.09519911383254828,0.08750000000000002,0.15461375706683578,0.0,0.08838744277871141,0.05153741361479546,0.1499999999999999,0.10307648869923002,0.03953316676541992,0.0,0.22810440871342785,0.4631749264830324,0.32715595288731947,0.21830451784663094,0.09013797757938935,0.0625,0.03952552984603749,0.0,0.15461766158658108,0.11792230496564253,0.024999999999999967,0.11858697767673522,0.2775446225557433,0.3758320935239066,0.15811597023564694,0.25279758953459686,0.3245176478570965,0.0,0.34323829186155785,0.1845619476280254,0.037504949999999995,0.08385476298042047,0.07288944556314376,0.05000659999999999,0.10077842652434348,0.1305029406167156,0.2899349366834049,0.21396592020901364,0.0,0.19121262382387308,0.2761343242172005,0.012499999999999956,0.0625,0.053025124934529835,0.03749999999999998,0.0,0.012499999999999956,0.0,0.10679613230039053,0.08750000000000002,0.06373648908560935,0.0760363564580951,0.04506681162019344,0.4391046245196041,0.3644341744535081,0.0,0.19565751330385958,0.08003814716810041,0.13975339896604486,0.3875,0.13750205000000001,0.1767760236077351,0.1499999999999999,0.13050294061671566,0.04999999999999999,0.08750000000000002,0.0,0.06249814004920461,0.06731279612794658,0.4790964021691278,0.06731279612794658,0.07500000000000018,0.3002600373692109,0.2404430728353439,0.012509699999999985,0.10077942545028719,0.34118614974617967,0.1875,0.21578291755746096,0.0374969,0.11858443198670725,0.12562360945587622,0.12500000000000006,0.012500000000000011,0.027951587660140137,0.0374969,0.012500000000000011,0.03749999999999998,0.03750000000000003,0.0,0.04999855,0.06249331063659933,0.08838744277871152,0.025000000000000022,0.0,0.03952899255891172,0.08385476298042051,0.03750495,0.0,0.025000000000000022,0.12311013362880611,0.017678836294352077,0.03952644736072295,0.24558608470359228,0.0,0.17677830078610468,0.5590209522713102,0.3633612734055323,0.062498840006055226,0.03750000000000009,0.05303650888305627,0.09999999999999987,0.25495069131520803,0.0,0.12562280860162298,0.08839181247293214,0.20348616973765682,0.2899338956974891,0.41420002881979917,0.03535198046167288,0.3252400498723366,0.07288116268503474,0.34392263671680584,0.3134980263455617,0.0,0.3946916866408799,0.15052006926892675,0.11319160764367653,0.3134986682761029,0.13050421449194657,0.024999999999999994,0.05303081660327324,0.04506681162019341,0.07288530379719906,0.06731474578456047,0.07500000000000001,0.07500000000000001,0.07500000000000001,0.1457747491969117,0.21249863530952376,0.07288116268503474,0.07288116268503474,0.07500000000000007,0.07905105969207497,0.0625,0.0,0.050000000000000044,0.01250165,0.035357672588704155,0.12500594025089365,0.25,0.1581134244841421,0.09519911383254832,0.11319907263860425,0.06732222009160499,0.14577474919691166,0.45069409249610753,0.0,0.2490612926639194,0.22810440871342774,0.07499999999999996,0.050000000000000044,0.20691329708902229,0.05590317532028037,0.02795380136743479,0.10752918208579475,0.11524027090579059,0.10679613230039042,0.10679613230039042,0.1152352271941614,0.09762954216538403,0.09100473895490277,0.09520038084088737,0.07070965282125562,0.1776626861393242,0.10680178497807269,0.13050525381953976,0.127474556373272,0.04507350967588939,0.0,0.1068017849780729,0.06373964695611357,0.16298080437306092,0.15461375706683578,0.21830462671129994,0.07288530379719906,0.0625,0.0625,0.04999999999999999,0.2855941701895191,0.037500000000000006,0.0,0.017684529795558613,0.04507350967588946,0.0,0.037500000000000006,0.012499999999999997,0.01250165,0.0838511628399392,0.03952552984603749,0.09519594271611578,0.11858443198670726,0.11858443198670726,0.11858443198670726,0.0625,0.09519594271611578,0.053030816603273224,0.04506675629066839,0.017678836294352077,0.01250165,0.02500000000000001,0.02500000000000001,0.05590317532028032,0.07500000000000001,0.037500000000000006,0.045073509675889446,0.012499999999999983,0.037500000000000006,0.045073509675889446,0.037500000000000006,0.012499999999999997,0.051539220528860355,0.0,0.0],\"type\":\"scatter\"}],                        {\"template\":{\"data\":{\"bar\":[{\"error_x\":{\"color\":\"#2a3f5f\"},\"error_y\":{\"color\":\"#2a3f5f\"},\"marker\":{\"line\":{\"color\":\"#E5ECF6\",\"width\":0.5},\"pattern\":{\"fillmode\":\"overlay\",\"size\":10,\"solidity\":0.2}},\"type\":\"bar\"}],\"barpolar\":[{\"marker\":{\"line\":{\"color\":\"#E5ECF6\",\"width\":0.5},\"pattern\":{\"fillmode\":\"overlay\",\"size\":10,\"solidity\":0.2}},\"type\":\"barpolar\"}],\"carpet\":[{\"aaxis\":{\"endlinecolor\":\"#2a3f5f\",\"gridcolor\":\"white\",\"linecolor\":\"white\",\"minorgridcolor\":\"white\",\"startlinecolor\":\"#2a3f5f\"},\"baxis\":{\"endlinecolor\":\"#2a3f5f\",\"gridcolor\":\"white\",\"linecolor\":\"white\",\"minorgridcolor\":\"white\",\"startlinecolor\":\"#2a3f5f\"},\"type\":\"carpet\"}],\"choropleth\":[{\"colorbar\":{\"outlinewidth\":0,\"ticks\":\"\"},\"type\":\"choropleth\"}],\"contour\":[{\"colorbar\":{\"outlinewidth\":0,\"ticks\":\"\"},\"colorscale\":[[0.0,\"#0d0887\"],[0.1111111111111111,\"#46039f\"],[0.2222222222222222,\"#7201a8\"],[0.3333333333333333,\"#9c179e\"],[0.4444444444444444,\"#bd3786\"],[0.5555555555555556,\"#d8576b\"],[0.6666666666666666,\"#ed7953\"],[0.7777777777777778,\"#fb9f3a\"],[0.8888888888888888,\"#fdca26\"],[1.0,\"#f0f921\"]],\"type\":\"contour\"}],\"contourcarpet\":[{\"colorbar\":{\"outlinewidth\":0,\"ticks\":\"\"},\"type\":\"contourcarpet\"}],\"heatmap\":[{\"colorbar\":{\"outlinewidth\":0,\"ticks\":\"\"},\"colorscale\":[[0.0,\"#0d0887\"],[0.1111111111111111,\"#46039f\"],[0.2222222222222222,\"#7201a8\"],[0.3333333333333333,\"#9c179e\"],[0.4444444444444444,\"#bd3786\"],[0.5555555555555556,\"#d8576b\"],[0.6666666666666666,\"#ed7953\"],[0.7777777777777778,\"#fb9f3a\"],[0.8888888888888888,\"#fdca26\"],[1.0,\"#f0f921\"]],\"type\":\"heatmap\"}],\"heatmapgl\":[{\"colorbar\":{\"outlinewidth\":0,\"ticks\":\"\"},\"colorscale\":[[0.0,\"#0d0887\"],[0.1111111111111111,\"#46039f\"],[0.2222222222222222,\"#7201a8\"],[0.3333333333333333,\"#9c179e\"],[0.4444444444444444,\"#bd3786\"],[0.5555555555555556,\"#d8576b\"],[0.6666666666666666,\"#ed7953\"],[0.7777777777777778,\"#fb9f3a\"],[0.8888888888888888,\"#fdca26\"],[1.0,\"#f0f921\"]],\"type\":\"heatmapgl\"}],\"histogram\":[{\"marker\":{\"pattern\":{\"fillmode\":\"overlay\",\"size\":10,\"solidity\":0.2}},\"type\":\"histogram\"}],\"histogram2d\":[{\"colorbar\":{\"outlinewidth\":0,\"ticks\":\"\"},\"colorscale\":[[0.0,\"#0d0887\"],[0.1111111111111111,\"#46039f\"],[0.2222222222222222,\"#7201a8\"],[0.3333333333333333,\"#9c179e\"],[0.4444444444444444,\"#bd3786\"],[0.5555555555555556,\"#d8576b\"],[0.6666666666666666,\"#ed7953\"],[0.7777777777777778,\"#fb9f3a\"],[0.8888888888888888,\"#fdca26\"],[1.0,\"#f0f921\"]],\"type\":\"histogram2d\"}],\"histogram2dcontour\":[{\"colorbar\":{\"outlinewidth\":0,\"ticks\":\"\"},\"colorscale\":[[0.0,\"#0d0887\"],[0.1111111111111111,\"#46039f\"],[0.2222222222222222,\"#7201a8\"],[0.3333333333333333,\"#9c179e\"],[0.4444444444444444,\"#bd3786\"],[0.5555555555555556,\"#d8576b\"],[0.6666666666666666,\"#ed7953\"],[0.7777777777777778,\"#fb9f3a\"],[0.8888888888888888,\"#fdca26\"],[1.0,\"#f0f921\"]],\"type\":\"histogram2dcontour\"}],\"mesh3d\":[{\"colorbar\":{\"outlinewidth\":0,\"ticks\":\"\"},\"type\":\"mesh3d\"}],\"parcoords\":[{\"line\":{\"colorbar\":{\"outlinewidth\":0,\"ticks\":\"\"}},\"type\":\"parcoords\"}],\"pie\":[{\"automargin\":true,\"type\":\"pie\"}],\"scatter\":[{\"marker\":{\"colorbar\":{\"outlinewidth\":0,\"ticks\":\"\"}},\"type\":\"scatter\"}],\"scatter3d\":[{\"line\":{\"colorbar\":{\"outlinewidth\":0,\"ticks\":\"\"}},\"marker\":{\"colorbar\":{\"outlinewidth\":0,\"ticks\":\"\"}},\"type\":\"scatter3d\"}],\"scattercarpet\":[{\"marker\":{\"colorbar\":{\"outlinewidth\":0,\"ticks\":\"\"}},\"type\":\"scattercarpet\"}],\"scattergeo\":[{\"marker\":{\"colorbar\":{\"outlinewidth\":0,\"ticks\":\"\"}},\"type\":\"scattergeo\"}],\"scattergl\":[{\"marker\":{\"colorbar\":{\"outlinewidth\":0,\"ticks\":\"\"}},\"type\":\"scattergl\"}],\"scattermapbox\":[{\"marker\":{\"colorbar\":{\"outlinewidth\":0,\"ticks\":\"\"}},\"type\":\"scattermapbox\"}],\"scatterpolar\":[{\"marker\":{\"colorbar\":{\"outlinewidth\":0,\"ticks\":\"\"}},\"type\":\"scatterpolar\"}],\"scatterpolargl\":[{\"marker\":{\"colorbar\":{\"outlinewidth\":0,\"ticks\":\"\"}},\"type\":\"scatterpolargl\"}],\"scatterternary\":[{\"marker\":{\"colorbar\":{\"outlinewidth\":0,\"ticks\":\"\"}},\"type\":\"scatterternary\"}],\"surface\":[{\"colorbar\":{\"outlinewidth\":0,\"ticks\":\"\"},\"colorscale\":[[0.0,\"#0d0887\"],[0.1111111111111111,\"#46039f\"],[0.2222222222222222,\"#7201a8\"],[0.3333333333333333,\"#9c179e\"],[0.4444444444444444,\"#bd3786\"],[0.5555555555555556,\"#d8576b\"],[0.6666666666666666,\"#ed7953\"],[0.7777777777777778,\"#fb9f3a\"],[0.8888888888888888,\"#fdca26\"],[1.0,\"#f0f921\"]],\"type\":\"surface\"}],\"table\":[{\"cells\":{\"fill\":{\"color\":\"#EBF0F8\"},\"line\":{\"color\":\"white\"}},\"header\":{\"fill\":{\"color\":\"#C8D4E3\"},\"line\":{\"color\":\"white\"}},\"type\":\"table\"}]},\"layout\":{\"annotationdefaults\":{\"arrowcolor\":\"#2a3f5f\",\"arrowhead\":0,\"arrowwidth\":1},\"autotypenumbers\":\"strict\",\"coloraxis\":{\"colorbar\":{\"outlinewidth\":0,\"ticks\":\"\"}},\"colorscale\":{\"diverging\":[[0,\"#8e0152\"],[0.1,\"#c51b7d\"],[0.2,\"#de77ae\"],[0.3,\"#f1b6da\"],[0.4,\"#fde0ef\"],[0.5,\"#f7f7f7\"],[0.6,\"#e6f5d0\"],[0.7,\"#b8e186\"],[0.8,\"#7fbc41\"],[0.9,\"#4d9221\"],[1,\"#276419\"]],\"sequential\":[[0.0,\"#0d0887\"],[0.1111111111111111,\"#46039f\"],[0.2222222222222222,\"#7201a8\"],[0.3333333333333333,\"#9c179e\"],[0.4444444444444444,\"#bd3786\"],[0.5555555555555556,\"#d8576b\"],[0.6666666666666666,\"#ed7953\"],[0.7777777777777778,\"#fb9f3a\"],[0.8888888888888888,\"#fdca26\"],[1.0,\"#f0f921\"]],\"sequentialminus\":[[0.0,\"#0d0887\"],[0.1111111111111111,\"#46039f\"],[0.2222222222222222,\"#7201a8\"],[0.3333333333333333,\"#9c179e\"],[0.4444444444444444,\"#bd3786\"],[0.5555555555555556,\"#d8576b\"],[0.6666666666666666,\"#ed7953\"],[0.7777777777777778,\"#fb9f3a\"],[0.8888888888888888,\"#fdca26\"],[1.0,\"#f0f921\"]]},\"colorway\":[\"#636efa\",\"#EF553B\",\"#00cc96\",\"#ab63fa\",\"#FFA15A\",\"#19d3f3\",\"#FF6692\",\"#B6E880\",\"#FF97FF\",\"#FECB52\"],\"font\":{\"color\":\"#2a3f5f\"},\"geo\":{\"bgcolor\":\"white\",\"lakecolor\":\"white\",\"landcolor\":\"#E5ECF6\",\"showlakes\":true,\"showland\":true,\"subunitcolor\":\"white\"},\"hoverlabel\":{\"align\":\"left\"},\"hovermode\":\"closest\",\"mapbox\":{\"style\":\"light\"},\"paper_bgcolor\":\"white\",\"plot_bgcolor\":\"#E5ECF6\",\"polar\":{\"angularaxis\":{\"gridcolor\":\"white\",\"linecolor\":\"white\",\"ticks\":\"\"},\"bgcolor\":\"#E5ECF6\",\"radialaxis\":{\"gridcolor\":\"white\",\"linecolor\":\"white\",\"ticks\":\"\"}},\"scene\":{\"xaxis\":{\"backgroundcolor\":\"#E5ECF6\",\"gridcolor\":\"white\",\"gridwidth\":2,\"linecolor\":\"white\",\"showbackground\":true,\"ticks\":\"\",\"zerolinecolor\":\"white\"},\"yaxis\":{\"backgroundcolor\":\"#E5ECF6\",\"gridcolor\":\"white\",\"gridwidth\":2,\"linecolor\":\"white\",\"showbackground\":true,\"ticks\":\"\",\"zerolinecolor\":\"white\"},\"zaxis\":{\"backgroundcolor\":\"#E5ECF6\",\"gridcolor\":\"white\",\"gridwidth\":2,\"linecolor\":\"white\",\"showbackground\":true,\"ticks\":\"\",\"zerolinecolor\":\"white\"}},\"shapedefaults\":{\"line\":{\"color\":\"#2a3f5f\"}},\"ternary\":{\"aaxis\":{\"gridcolor\":\"white\",\"linecolor\":\"white\",\"ticks\":\"\"},\"baxis\":{\"gridcolor\":\"white\",\"linecolor\":\"white\",\"ticks\":\"\"},\"bgcolor\":\"#E5ECF6\",\"caxis\":{\"gridcolor\":\"white\",\"linecolor\":\"white\",\"ticks\":\"\"}},\"title\":{\"x\":0.05},\"xaxis\":{\"automargin\":true,\"gridcolor\":\"white\",\"linecolor\":\"white\",\"ticks\":\"\",\"title\":{\"standoff\":15},\"zerolinecolor\":\"white\",\"zerolinewidth\":2},\"yaxis\":{\"automargin\":true,\"gridcolor\":\"white\",\"linecolor\":\"white\",\"ticks\":\"\",\"title\":{\"standoff\":15},\"zerolinecolor\":\"white\",\"zerolinewidth\":2}}},\"title\":{\"text\":\"nerve movement over time\"},\"xaxis\":{\"title\":{\"text\":\"frame number\"}},\"yaxis\":{\"title\":{\"text\":\"delta distance(mm)\"}},\"showlegend\":true},                        {\"responsive\": true}                    ).then(function(){\n",
              "                            \n",
              "var gd = document.getElementById('d1cd926e-e039-4b08-8a1f-4aa89253955c');\n",
              "var x = new MutationObserver(function (mutations, observer) {{\n",
              "        var display = window.getComputedStyle(gd).display;\n",
              "        if (!display || display === 'none') {{\n",
              "            console.log([gd, 'removed!']);\n",
              "            Plotly.purge(gd);\n",
              "            observer.disconnect();\n",
              "        }}\n",
              "}});\n",
              "\n",
              "// Listen for the removal of the full notebook cells\n",
              "var notebookContainer = gd.closest('#notebook-container');\n",
              "if (notebookContainer) {{\n",
              "    x.observe(notebookContainer, {childList: true});\n",
              "}}\n",
              "\n",
              "// Listen for the clearing of the current output cell\n",
              "var outputEl = gd.closest('.output');\n",
              "if (outputEl) {{\n",
              "    x.observe(outputEl, {childList: true});\n",
              "}}\n",
              "\n",
              "                        })                };                            </script>        </div>\n",
              "</body>\n",
              "</html>"
            ]
          },
          "metadata": {}
        }
      ]
    },
    {
      "cell_type": "markdown",
      "source": [
        "#極座標表示　原点（最初のフレーム）からみた極座標"
      ],
      "metadata": {
        "id": "Cqoy_kn1W9Cz"
      }
    },
    {
      "cell_type": "code",
      "source": [
        "#np.ndarrayをシリーズに変換\n",
        "distance_s=pd.Series(distance)\n",
        "degrees_s=pd.Series(degrees)\n",
        "#SeriesをDataFrameに変換\n",
        "df_dist=pd.DataFrame(distance_s,columns=['distance'])\n",
        "df_degrees=pd.DataFrame(degrees_s,columns=['degrees'])\n",
        "#2つのDataFrameを横結合\n",
        "df_dist_degrees=pd.concat([df_dist,df_degrees],axis=1)"
      ],
      "metadata": {
        "id": "KaCAIzxiYxOD"
      },
      "execution_count": 23,
      "outputs": []
    },
    {
      "cell_type": "code",
      "source": [
        "import plotly.express as px\n",
        "fig = px.scatter_polar(df_dist_degrees,r='distance',theta='degrees',direction='counterclockwise')\n",
        "fig.show()"
      ],
      "metadata": {
        "id": "x3RKcfpGo-Kq",
        "outputId": "774446e0-df00-425e-9b77-9d8dd5fd25fe",
        "colab": {
          "base_uri": "https://localhost:8080/",
          "height": 542
        }
      },
      "execution_count": 24,
      "outputs": [
        {
          "output_type": "display_data",
          "data": {
            "text/html": [
              "<html>\n",
              "<head><meta charset=\"utf-8\" /></head>\n",
              "<body>\n",
              "    <div>            <script src=\"https://cdnjs.cloudflare.com/ajax/libs/mathjax/2.7.5/MathJax.js?config=TeX-AMS-MML_SVG\"></script><script type=\"text/javascript\">if (window.MathJax) {MathJax.Hub.Config({SVG: {font: \"STIX-Web\"}});}</script>                <script type=\"text/javascript\">window.PlotlyConfig = {MathJaxConfig: 'local'};</script>\n",
              "        <script src=\"https://cdn.plot.ly/plotly-2.8.3.min.js\"></script>                <div id=\"487c0989-fbaa-43f8-aa3a-cebd4a01b4b4\" class=\"plotly-graph-div\" style=\"height:525px; width:100%;\"></div>            <script type=\"text/javascript\">                                    window.PLOTLYENV=window.PLOTLYENV || {};                                    if (document.getElementById(\"487c0989-fbaa-43f8-aa3a-cebd4a01b4b4\")) {                    Plotly.newPlot(                        \"487c0989-fbaa-43f8-aa3a-cebd4a01b4b4\",                        [{\"hovertemplate\":\"distance=%{r}<br>degrees=%{theta}<extra></extra>\",\"legendgroup\":\"\",\"marker\":{\"color\":\"#636efa\",\"symbol\":\"circle\"},\"mode\":\"markers\",\"name\":\"\",\"r\":[0.1131933858230683,0.3824252476477462,0.3147406295258407,0.5427064768716511,0.8591409008762896,1.2265933617136693,1.2265933617136693,1.4138820760586932,2.0485517219526606,2.346041425488069,2.3632613958422635,2.2204307521290456,1.7761003015928076,1.3146407570277288,1.3146407570277288,0.4759828844669759,0.37101461399748464,1.214044801481564,1.609055486933673,1.8732068572460545,1.8322200666151678,1.8052436400763194,1.8177075810030612,1.8177075810030612,1.8277375139796224,1.8277375139796224,1.5540766253909395,1.1326123503949719,0.9598982237904183,0.7771132124851066,0.7367562054747164,0.6365174673700813,0.7133754972214843,0.6006490968598243,0.6006490968598243,0.631094647236611,0.6269960526911234,0.6626179451635177,0.6876136569707749,0.725107779059584,0.9000868242857033,0.8149003159896553,0.6823655985759413,0.6329477151549743,0.628117246220831,0.8047704354477137,0.8889068005647442,0.9762807229942881,1.1250694606346412,1.1250694606346412,1.0378010466956384,1.0277397871243674,0.8782078740471643,0.9801136720400866,0.9970260026879941,0.9970260026879941,0.7690279969675372,0.3092314182589473,0.045066811620193416,0.23049004326339131,0.3162293946275749,0.3760415934793949,0.3801740145223796,0.3801740145223796,0.5255950580160452,0.4685406279485697,0.49323454870724537,0.3915111349011194,0.1802739443705676,0.3259552347835666,0.4808834318275584,0.2564731102971664,0.17001667567744644,0.17001667567744644,0.4764777198459651,0.639458294217504,0.6434784544826675,0.5647184343047073,0.5076005037265059,0.5014046482378305,0.4007806944089124,0.27528365378452824,0.05152960401798175,0.23716886397341452,0.23716886397341452,0.4142007574952151,0.6903350816813817,0.7027846576299457,0.6405564182802636,0.6082744529568067,0.571317827588027,0.571317827588027,0.5836290004102799,0.5836290004102799,0.6778873615874839,0.5908151360620681,0.6543119057746389,0.6792679478813368,0.6966435377950208,0.2610058812334312,0.11858443198670726,0.11858443198670726,0.29181656917241694,0.3640069093115163,0.5032706528302241,0.8838835330518157,0.8750893047299358,0.7010035788136961,0.5512767159146212,0.4315658351149219,0.3824252476477462,0.4685406279485697,0.4685406279485697,0.5138698935621837,0.5751358893798251,1.0435823063114094,1.1034755418147713,1.0287289591449258,0.7318647621155991,0.5065227315748129,0.5032706528302241,0.41117548273457405,0.09100006880526244,0.10307648869923006,0.31274996603152894,0.3134980263455617,0.42518383230400764,0.5505680384937814,0.425734852943578,0.4132570810172404,0.3893107643958776,0.3875000000836161,0.37500000008640333,0.3375000000960037,0.30000000010800415,0.30000000010800415,0.3041365648688924,0.35022320204795465,0.43821343261310747,0.46317492648303243,0.46317492648303243,0.5014040461639794,0.4250000000762382,0.4266509316872635,0.4266509316872635,0.45155953927429104,0.34865700017453044,0.3400359098807213,0.3087238370882462,0.07070396092334573,0.07070396092334573,0.14577474919691166,0.649039636731841,0.9988279932068835,1.0298669962798703,1.067195989510138,1.026903732099577,0.9271090955222261,0.6751157613718721,0.6751157613718721,0.5500000000589114,0.5445747917143269,0.35990464014813706,0.17000810676424374,0.383446671650909,0.41551768316032295,0.7307934088137102,0.785015987098454,0.45017339997045586,0.13806716210860026,0.13806716210860026,0.26487140750230104,0.41231181165050623,0.3087267703837205,0.13975626552753367,0.06373806753206832,0.08838858100864895,0.127474556373272,0.16249698093079298,0.21396497966387512,0.2069098928777996,0.27669785646206674,0.2069098928777996,0.27669785646206674,0.3877013541902582,0.5859002966260471,0.6418968199823258,0.5859002966260471,0.6596621541262543,0.6760406921995229,0.7384526169698432,0.7384526169698432,0.6885217988630498,0.6879542226940413,0.7125000000454754,0.8159543660667687,0.5674782176466534,0.43102360724229477,0.3365716175952787,0.31349931041203666,0.28993493668340486,0.1667719139258841,0.2877716825066749,0.2877716825066749,0.5322422968087467,0.7603467055044051,0.8344172293112135,0.883884671533228,1.0835439902896433,1.029716341438176,1.0131179540303403,0.9179636594258634,1.0003127349128484,0.9021675426438485,1.0003127349128484,0.9846480659373695,0.9146379201629681,0.9494247521597959,0.9021675426438485,0.8574123679721225,1.0128098279197346,1.1187350055353813,1.2332006112270633,1.3606640474417775,1.3436204100426068,1.3436204100426068,1.238005109036566,1.1795811810173344,1.0186543329317557,0.8640414219774435,0.6457809139163393,0.5762233617022157,0.5153902526934347,0.45500918954610414,0.40716503112546704,0.12562360945587617,0.08838858100864895,0.08838858100864895,0.10308039400789319,0.07603347973728415,0.07603347973728415,0.11319160764367649,0.12562280860162298,0.127474556373272,0.051539220528860355,0.0450667562906684,0.051539220528860355,0.06731279612794658,0.051539220528860355,0.06731279612794658,0.02499525,0.08838858100864895,0.05589957533436637,0.0875,0.1007784265243435,0.1,0.075,0.1,0.15206960580895185,0.2263849929012301,0.18915976054882816,0.22150289234694542,0.20954064359465566,0.17410781521247834,0.13975483895339727,0.10307844105772071,0.11524502163169566,0.1667719139258841,0.1667719139258841,0.1667719139258841],\"showlegend\":false,\"subplot\":\"polar\",\"theta\":[173.6549283768173,-168.6909783848578,-173.15924188906553,-172.0571764686216,-171.6346186228449,-177.0792691488738,-177.0792691488738,-177.46643301478122,174.04578407849365,175.10934730777245,173.92733023406313,175.1559841978758,177.9831101508572,-176.72978185034503,-176.72978185034503,-156.8022337603722,-57.380170044142716,-16.75565402941042,-9.388950826115675,-6.128904374429574,-5.088176097936077,-4.368087556596226,-4.338078207901769,-4.338078207901769,-3.136267595516304,-3.136267595516304,-4.1509432930941,-10.813671304507194,-8.235264880948852,-11.128874599799637,-14.743002543658251,-19.50209637880656,-11.112567673482847,-12.010764631419573,-12.010764631419573,-7.969201298899823,-4.573055901295129,-1.0810668347940138,-1.0417641404320226,-0.9878907581749493,-0.7958285747401667,-4.3987193756095495,-8.426059516135815,-9.08929815249095,-5.71061129061733,-6.241592329731086,-3.2239112396777156,-2.9351166438798435,-0.6366775993988061,-0.6366775993988061,-1.3800919076117117,-4.184571401010394,-4.898689432988728,-5.855376807536155,-7.926585177225553,-7.926585177225553,-7.4707502828162635,-14.035129003423402,-123.69225370545226,167.46959071524313,161.56416596184346,164.5770822531062,170.53645135696146,170.53645135696146,177.27332967610872,-170.7897218537547,-171.2545495753878,-163.30093098261827,-123.69083442334863,-32.469842786497516,-27.897007779428446,-46.9737984143584,-143.97341699487615,-143.97341699487615,-175.48638315638456,175.51480443772112,172.18368758541294,174.9197251403223,170.07247029461922,175.71028261619193,176.4231947743249,-177.39876847861697,-75.96119461556606,-18.433527875843883,-18.433527875843883,-5.19400185037847,-5.194445438975675,-5.102181493110214,-5.599357140539863,-9.461304817794797,-10.07951679692235,-10.07951679692235,-9.86474786136279,-9.86474786136279,-5.290098037588935,-6.072475693879434,-6.581405321473553,-12.7571742994301,-9.29320714193458,-16.697940614699487,-161.56647212415612,-161.56647212415612,170.13291636471396,164.05382466329485,165.61856129717668,171.86987197733643,-179.18143651688956,-176.93376751126652,-176.09982770326602,-169.99283080127512,-168.6909783848578,-170.7897218537547,-170.7897218537547,-175.8154285989896,-178.75447139692957,173.81101287216453,175.45135976839842,175.12008526284058,172.1462872993547,164.24772676600446,165.61856129717668,160.46201869135757,-164.05747973981045,-14.033681980921568,2.2909120810291403,-4.573055901295129,1.6849065680511024,2.6029052682697427,3.3669040140184308,3.468685947471563,5.5282652672518715,0.0011902736129392566,0.0012299494000252396,0.001366610444423248,0.0015374367498987098,0.0015374367498987098,-9.46055686953809,-2.045678253429228,-3.2698678789697917,-3.0934713297795726,-3.0934713297795726,-4.288800081836061,0.001085249470647422,-5.04203637533282,-5.04203637533282,-4.763249708342178,-14.53373129549484,-17.102261929851238,-21.369014964193536,-44.994556383819095,-44.994556383819095,-149.03561995910295,164.35715848449712,171.36265874878788,174.42751703403337,174.62301929450499,176.51066395595174,176.1345264981719,178.93894830140604,178.93894830140604,179.99916139813627,-170.7543597490336,-159.67680345557906,-107.1037944252324,-19.025662541782616,-21.160700441981835,-12.846883135985541,-9.162375867937058,-1.590326025840071,5.1951108207006795,5.1951108207006795,160.70923918178087,165.96306224414275,158.62959376424257,79.69530387318969,11.311386897962004,8.131161177365968,-11.307838959086327,-22.617309983444493,-6.708573559648869,-25.015751734066214,-18.43405500411382,-25.015751734066214,-18.43405500411382,-1.846664944688615,-11.06931004415042,-6.710000807907912,-11.06931004415042,-9.818504708974341,-3.179567793274694,-2.910597610687939,-2.910597610687939,-3.1218728765441206,-2.0821699406446315,0.0006473417895588592,-5.274025313203453,-7.594828516445469,-16.858449654472413,-15.067740229612202,4.575989003047699,-7.430800507272352,12.996273852052818,177.5101188705607,177.5101188705607,170.5373061440766,170.5370497074957,171.3837781388564,171.86935539931986,168.6894479032791,169.50804972829312,170.76981511023348,173.74564772580143,178.56725391511029,176.02749138796176,178.56725391511029,171.97264437072866,176.08173863659206,170.90950259633456,176.02749138796176,172.4606376684344,167.16408438955963,166.42904287247327,169.48711929955303,169.4126455682971,167.64440061755312,167.64440061755312,168.34966430064637,167.14141259970597,165.79319026118776,165.76195145203164,165.42532440626044,167.47037208752235,165.96284519576926,164.05358099626437,162.1201717522215,174.28865804735076,171.86883882263405,171.86883882263405,165.9576361581588,-170.54243495602648,-170.54243495602648,-173.66302801750763,-174.2923113761436,-168.69216104091367,165.96197700638672,-146.31495716688514,14.03802299361329,-158.20234447343884,14.03802299361329,-158.20234447343884,-90.0,8.131161177365968,-26.56069653236688,0.0,7.125947183060111,0.0,0.0,0.0,9.463548643038537,6.341021834647532,7.595634157952634,16.39158763304681,17.35617779044625,21.04004499153426,10.306177558692916,14.03802299361329,12.530409284756871,12.996273852052818,12.996273852052818,12.996273852052818],\"type\":\"scatterpolar\"}],                        {\"template\":{\"data\":{\"bar\":[{\"error_x\":{\"color\":\"#2a3f5f\"},\"error_y\":{\"color\":\"#2a3f5f\"},\"marker\":{\"line\":{\"color\":\"#E5ECF6\",\"width\":0.5},\"pattern\":{\"fillmode\":\"overlay\",\"size\":10,\"solidity\":0.2}},\"type\":\"bar\"}],\"barpolar\":[{\"marker\":{\"line\":{\"color\":\"#E5ECF6\",\"width\":0.5},\"pattern\":{\"fillmode\":\"overlay\",\"size\":10,\"solidity\":0.2}},\"type\":\"barpolar\"}],\"carpet\":[{\"aaxis\":{\"endlinecolor\":\"#2a3f5f\",\"gridcolor\":\"white\",\"linecolor\":\"white\",\"minorgridcolor\":\"white\",\"startlinecolor\":\"#2a3f5f\"},\"baxis\":{\"endlinecolor\":\"#2a3f5f\",\"gridcolor\":\"white\",\"linecolor\":\"white\",\"minorgridcolor\":\"white\",\"startlinecolor\":\"#2a3f5f\"},\"type\":\"carpet\"}],\"choropleth\":[{\"colorbar\":{\"outlinewidth\":0,\"ticks\":\"\"},\"type\":\"choropleth\"}],\"contour\":[{\"colorbar\":{\"outlinewidth\":0,\"ticks\":\"\"},\"colorscale\":[[0.0,\"#0d0887\"],[0.1111111111111111,\"#46039f\"],[0.2222222222222222,\"#7201a8\"],[0.3333333333333333,\"#9c179e\"],[0.4444444444444444,\"#bd3786\"],[0.5555555555555556,\"#d8576b\"],[0.6666666666666666,\"#ed7953\"],[0.7777777777777778,\"#fb9f3a\"],[0.8888888888888888,\"#fdca26\"],[1.0,\"#f0f921\"]],\"type\":\"contour\"}],\"contourcarpet\":[{\"colorbar\":{\"outlinewidth\":0,\"ticks\":\"\"},\"type\":\"contourcarpet\"}],\"heatmap\":[{\"colorbar\":{\"outlinewidth\":0,\"ticks\":\"\"},\"colorscale\":[[0.0,\"#0d0887\"],[0.1111111111111111,\"#46039f\"],[0.2222222222222222,\"#7201a8\"],[0.3333333333333333,\"#9c179e\"],[0.4444444444444444,\"#bd3786\"],[0.5555555555555556,\"#d8576b\"],[0.6666666666666666,\"#ed7953\"],[0.7777777777777778,\"#fb9f3a\"],[0.8888888888888888,\"#fdca26\"],[1.0,\"#f0f921\"]],\"type\":\"heatmap\"}],\"heatmapgl\":[{\"colorbar\":{\"outlinewidth\":0,\"ticks\":\"\"},\"colorscale\":[[0.0,\"#0d0887\"],[0.1111111111111111,\"#46039f\"],[0.2222222222222222,\"#7201a8\"],[0.3333333333333333,\"#9c179e\"],[0.4444444444444444,\"#bd3786\"],[0.5555555555555556,\"#d8576b\"],[0.6666666666666666,\"#ed7953\"],[0.7777777777777778,\"#fb9f3a\"],[0.8888888888888888,\"#fdca26\"],[1.0,\"#f0f921\"]],\"type\":\"heatmapgl\"}],\"histogram\":[{\"marker\":{\"pattern\":{\"fillmode\":\"overlay\",\"size\":10,\"solidity\":0.2}},\"type\":\"histogram\"}],\"histogram2d\":[{\"colorbar\":{\"outlinewidth\":0,\"ticks\":\"\"},\"colorscale\":[[0.0,\"#0d0887\"],[0.1111111111111111,\"#46039f\"],[0.2222222222222222,\"#7201a8\"],[0.3333333333333333,\"#9c179e\"],[0.4444444444444444,\"#bd3786\"],[0.5555555555555556,\"#d8576b\"],[0.6666666666666666,\"#ed7953\"],[0.7777777777777778,\"#fb9f3a\"],[0.8888888888888888,\"#fdca26\"],[1.0,\"#f0f921\"]],\"type\":\"histogram2d\"}],\"histogram2dcontour\":[{\"colorbar\":{\"outlinewidth\":0,\"ticks\":\"\"},\"colorscale\":[[0.0,\"#0d0887\"],[0.1111111111111111,\"#46039f\"],[0.2222222222222222,\"#7201a8\"],[0.3333333333333333,\"#9c179e\"],[0.4444444444444444,\"#bd3786\"],[0.5555555555555556,\"#d8576b\"],[0.6666666666666666,\"#ed7953\"],[0.7777777777777778,\"#fb9f3a\"],[0.8888888888888888,\"#fdca26\"],[1.0,\"#f0f921\"]],\"type\":\"histogram2dcontour\"}],\"mesh3d\":[{\"colorbar\":{\"outlinewidth\":0,\"ticks\":\"\"},\"type\":\"mesh3d\"}],\"parcoords\":[{\"line\":{\"colorbar\":{\"outlinewidth\":0,\"ticks\":\"\"}},\"type\":\"parcoords\"}],\"pie\":[{\"automargin\":true,\"type\":\"pie\"}],\"scatter\":[{\"marker\":{\"colorbar\":{\"outlinewidth\":0,\"ticks\":\"\"}},\"type\":\"scatter\"}],\"scatter3d\":[{\"line\":{\"colorbar\":{\"outlinewidth\":0,\"ticks\":\"\"}},\"marker\":{\"colorbar\":{\"outlinewidth\":0,\"ticks\":\"\"}},\"type\":\"scatter3d\"}],\"scattercarpet\":[{\"marker\":{\"colorbar\":{\"outlinewidth\":0,\"ticks\":\"\"}},\"type\":\"scattercarpet\"}],\"scattergeo\":[{\"marker\":{\"colorbar\":{\"outlinewidth\":0,\"ticks\":\"\"}},\"type\":\"scattergeo\"}],\"scattergl\":[{\"marker\":{\"colorbar\":{\"outlinewidth\":0,\"ticks\":\"\"}},\"type\":\"scattergl\"}],\"scattermapbox\":[{\"marker\":{\"colorbar\":{\"outlinewidth\":0,\"ticks\":\"\"}},\"type\":\"scattermapbox\"}],\"scatterpolar\":[{\"marker\":{\"colorbar\":{\"outlinewidth\":0,\"ticks\":\"\"}},\"type\":\"scatterpolar\"}],\"scatterpolargl\":[{\"marker\":{\"colorbar\":{\"outlinewidth\":0,\"ticks\":\"\"}},\"type\":\"scatterpolargl\"}],\"scatterternary\":[{\"marker\":{\"colorbar\":{\"outlinewidth\":0,\"ticks\":\"\"}},\"type\":\"scatterternary\"}],\"surface\":[{\"colorbar\":{\"outlinewidth\":0,\"ticks\":\"\"},\"colorscale\":[[0.0,\"#0d0887\"],[0.1111111111111111,\"#46039f\"],[0.2222222222222222,\"#7201a8\"],[0.3333333333333333,\"#9c179e\"],[0.4444444444444444,\"#bd3786\"],[0.5555555555555556,\"#d8576b\"],[0.6666666666666666,\"#ed7953\"],[0.7777777777777778,\"#fb9f3a\"],[0.8888888888888888,\"#fdca26\"],[1.0,\"#f0f921\"]],\"type\":\"surface\"}],\"table\":[{\"cells\":{\"fill\":{\"color\":\"#EBF0F8\"},\"line\":{\"color\":\"white\"}},\"header\":{\"fill\":{\"color\":\"#C8D4E3\"},\"line\":{\"color\":\"white\"}},\"type\":\"table\"}]},\"layout\":{\"annotationdefaults\":{\"arrowcolor\":\"#2a3f5f\",\"arrowhead\":0,\"arrowwidth\":1},\"autotypenumbers\":\"strict\",\"coloraxis\":{\"colorbar\":{\"outlinewidth\":0,\"ticks\":\"\"}},\"colorscale\":{\"diverging\":[[0,\"#8e0152\"],[0.1,\"#c51b7d\"],[0.2,\"#de77ae\"],[0.3,\"#f1b6da\"],[0.4,\"#fde0ef\"],[0.5,\"#f7f7f7\"],[0.6,\"#e6f5d0\"],[0.7,\"#b8e186\"],[0.8,\"#7fbc41\"],[0.9,\"#4d9221\"],[1,\"#276419\"]],\"sequential\":[[0.0,\"#0d0887\"],[0.1111111111111111,\"#46039f\"],[0.2222222222222222,\"#7201a8\"],[0.3333333333333333,\"#9c179e\"],[0.4444444444444444,\"#bd3786\"],[0.5555555555555556,\"#d8576b\"],[0.6666666666666666,\"#ed7953\"],[0.7777777777777778,\"#fb9f3a\"],[0.8888888888888888,\"#fdca26\"],[1.0,\"#f0f921\"]],\"sequentialminus\":[[0.0,\"#0d0887\"],[0.1111111111111111,\"#46039f\"],[0.2222222222222222,\"#7201a8\"],[0.3333333333333333,\"#9c179e\"],[0.4444444444444444,\"#bd3786\"],[0.5555555555555556,\"#d8576b\"],[0.6666666666666666,\"#ed7953\"],[0.7777777777777778,\"#fb9f3a\"],[0.8888888888888888,\"#fdca26\"],[1.0,\"#f0f921\"]]},\"colorway\":[\"#636efa\",\"#EF553B\",\"#00cc96\",\"#ab63fa\",\"#FFA15A\",\"#19d3f3\",\"#FF6692\",\"#B6E880\",\"#FF97FF\",\"#FECB52\"],\"font\":{\"color\":\"#2a3f5f\"},\"geo\":{\"bgcolor\":\"white\",\"lakecolor\":\"white\",\"landcolor\":\"#E5ECF6\",\"showlakes\":true,\"showland\":true,\"subunitcolor\":\"white\"},\"hoverlabel\":{\"align\":\"left\"},\"hovermode\":\"closest\",\"mapbox\":{\"style\":\"light\"},\"paper_bgcolor\":\"white\",\"plot_bgcolor\":\"#E5ECF6\",\"polar\":{\"angularaxis\":{\"gridcolor\":\"white\",\"linecolor\":\"white\",\"ticks\":\"\"},\"bgcolor\":\"#E5ECF6\",\"radialaxis\":{\"gridcolor\":\"white\",\"linecolor\":\"white\",\"ticks\":\"\"}},\"scene\":{\"xaxis\":{\"backgroundcolor\":\"#E5ECF6\",\"gridcolor\":\"white\",\"gridwidth\":2,\"linecolor\":\"white\",\"showbackground\":true,\"ticks\":\"\",\"zerolinecolor\":\"white\"},\"yaxis\":{\"backgroundcolor\":\"#E5ECF6\",\"gridcolor\":\"white\",\"gridwidth\":2,\"linecolor\":\"white\",\"showbackground\":true,\"ticks\":\"\",\"zerolinecolor\":\"white\"},\"zaxis\":{\"backgroundcolor\":\"#E5ECF6\",\"gridcolor\":\"white\",\"gridwidth\":2,\"linecolor\":\"white\",\"showbackground\":true,\"ticks\":\"\",\"zerolinecolor\":\"white\"}},\"shapedefaults\":{\"line\":{\"color\":\"#2a3f5f\"}},\"ternary\":{\"aaxis\":{\"gridcolor\":\"white\",\"linecolor\":\"white\",\"ticks\":\"\"},\"baxis\":{\"gridcolor\":\"white\",\"linecolor\":\"white\",\"ticks\":\"\"},\"bgcolor\":\"#E5ECF6\",\"caxis\":{\"gridcolor\":\"white\",\"linecolor\":\"white\",\"ticks\":\"\"}},\"title\":{\"x\":0.05},\"xaxis\":{\"automargin\":true,\"gridcolor\":\"white\",\"linecolor\":\"white\",\"ticks\":\"\",\"title\":{\"standoff\":15},\"zerolinecolor\":\"white\",\"zerolinewidth\":2},\"yaxis\":{\"automargin\":true,\"gridcolor\":\"white\",\"linecolor\":\"white\",\"ticks\":\"\",\"title\":{\"standoff\":15},\"zerolinecolor\":\"white\",\"zerolinewidth\":2}}},\"polar\":{\"domain\":{\"x\":[0.0,1.0],\"y\":[0.0,1.0]},\"angularaxis\":{\"direction\":\"counterclockwise\",\"rotation\":90}},\"legend\":{\"tracegroupgap\":0},\"margin\":{\"t\":60}},                        {\"responsive\": true}                    ).then(function(){\n",
              "                            \n",
              "var gd = document.getElementById('487c0989-fbaa-43f8-aa3a-cebd4a01b4b4');\n",
              "var x = new MutationObserver(function (mutations, observer) {{\n",
              "        var display = window.getComputedStyle(gd).display;\n",
              "        if (!display || display === 'none') {{\n",
              "            console.log([gd, 'removed!']);\n",
              "            Plotly.purge(gd);\n",
              "            observer.disconnect();\n",
              "        }}\n",
              "}});\n",
              "\n",
              "// Listen for the removal of the full notebook cells\n",
              "var notebookContainer = gd.closest('#notebook-container');\n",
              "if (notebookContainer) {{\n",
              "    x.observe(notebookContainer, {childList: true});\n",
              "}}\n",
              "\n",
              "// Listen for the clearing of the current output cell\n",
              "var outputEl = gd.closest('.output');\n",
              "if (outputEl) {{\n",
              "    x.observe(outputEl, {childList: true});\n",
              "}}\n",
              "\n",
              "                        })                };                            </script>        </div>\n",
              "</body>\n",
              "</html>"
            ]
          },
          "metadata": {}
        }
      ]
    },
    {
      "cell_type": "markdown",
      "source": [
        "#極座標表示　各フレーム間の移動の極座標"
      ],
      "metadata": {
        "id": "WysRNHi_eSnM"
      }
    },
    {
      "cell_type": "code",
      "source": [
        "#np.ndarrayをシリーズに変換\n",
        "delta_distance_s=pd.Series(delta_distance)\n",
        "delta_degrees_s=pd.Series(delta_degrees)\n",
        "#SeriesをDataFrameに変換\n",
        "df_delta_dist=pd.DataFrame(delta_distance_s,columns=['delta_distance'])\n",
        "df_delta_degrees=pd.DataFrame(delta_degrees_s,columns=['delta_degrees'])\n",
        "#2つのDataFrameを横結合\n",
        "df_delta_dist_degrees=pd.concat([df_delta_dist,df_delta_degrees],axis=1)\n",
        "#Plotly_expessで極座標表示\n",
        "import plotly.express as px\n",
        "fig = px.scatter_polar(df_delta_dist_degrees,r='delta_distance',theta='delta_degrees',direction='counterclockwise')\n",
        "fig.show()"
      ],
      "metadata": {
        "id": "PMWcUW5MeQVr",
        "colab": {
          "base_uri": "https://localhost:8080/",
          "height": 542
        },
        "outputId": "4b5037fb-6930-4690-e20f-929e99e2e0af"
      },
      "execution_count": 25,
      "outputs": [
        {
          "output_type": "display_data",
          "data": {
            "text/html": [
              "<html>\n",
              "<head><meta charset=\"utf-8\" /></head>\n",
              "<body>\n",
              "    <div>            <script src=\"https://cdnjs.cloudflare.com/ajax/libs/mathjax/2.7.5/MathJax.js?config=TeX-AMS-MML_SVG\"></script><script type=\"text/javascript\">if (window.MathJax) {MathJax.Hub.Config({SVG: {font: \"STIX-Web\"}});}</script>                <script type=\"text/javascript\">window.PlotlyConfig = {MathJaxConfig: 'local'};</script>\n",
              "        <script src=\"https://cdn.plot.ly/plotly-2.8.3.min.js\"></script>                <div id=\"1e3118ec-6464-4ed9-a895-a5c9e8181c75\" class=\"plotly-graph-div\" style=\"height:525px; width:100%;\"></div>            <script type=\"text/javascript\">                                    window.PLOTLYENV=window.PLOTLYENV || {};                                    if (document.getElementById(\"1e3118ec-6464-4ed9-a895-a5c9e8181c75\")) {                    Plotly.newPlot(                        \"1e3118ec-6464-4ed9-a895-a5c9e8181c75\",                        [{\"hovertemplate\":\"delta_distance=%{r}<br>delta_degrees=%{theta}<extra></extra>\",\"legendgroup\":\"\",\"marker\":{\"color\":\"#636efa\",\"symbol\":\"circle\"},\"mode\":\"markers\",\"name\":\"\",\"r\":[0.27670040208183655,0.07288944556314378,0.22810440871342774,0.3164744934463163,0.3801713676904438,0.0,0.1875,0.6828266654260142,0.30026003736921086,0.05153741361479546,0.15104148873095283,0.45500476652286015,0.48250706083352024,0.0,0.8822023400283874,0.649639399975217,0.9632304351890584,0.4339145797415084,0.28201289864125023,0.053030816603273294,0.03535767258870408,0.012499999999999956,0.0,0.039525529846037466,0.0,0.2752836537845281,0.4487842243512159,0.1789735385564652,0.1879163144932406,0.06249814004920461,0.1152450216316957,0.1250011100087615,0.11319249645061498,0.0,0.05303081660327322,0.03750495,0.05302512493452985,0.025000000000000022,0.03749999999999998,0.17500000000000004,0.10077750246013494,0.142518994784283,0.050000000000000044,0.03748884999999999,0.1767760236077351,0.09519911383254828,0.08750000000000002,0.15461375706683578,0.0,0.08838744277871141,0.05153741361479546,0.1499999999999999,0.10307648869923002,0.03953316676541992,0.0,0.22810440871342785,0.4631749264830324,0.32715595288731947,0.21830451784663094,0.09013797757938935,0.0625,0.03952552984603749,0.0,0.15461766158658108,0.11792230496564253,0.024999999999999967,0.11858697767673522,0.2775446225557433,0.3758320935239066,0.15811597023564694,0.25279758953459686,0.3245176478570965,0.0,0.34323829186155785,0.1845619476280254,0.037504949999999995,0.08385476298042047,0.07288944556314376,0.05000659999999999,0.10077842652434348,0.1305029406167156,0.2899349366834049,0.21396592020901364,0.0,0.19121262382387308,0.2761343242172005,0.012499999999999956,0.0625,0.053025124934529835,0.03749999999999998,0.0,0.012499999999999956,0.0,0.10679613230039053,0.08750000000000002,0.06373648908560935,0.0760363564580951,0.04506681162019344,0.4391046245196041,0.3644341744535081,0.0,0.19565751330385958,0.08003814716810041,0.13975339896604486,0.3875,0.13750205000000001,0.1767760236077351,0.1499999999999999,0.13050294061671566,0.04999999999999999,0.08750000000000002,0.0,0.06249814004920461,0.06731279612794658,0.4790964021691278,0.06731279612794658,0.07500000000000018,0.3002600373692109,0.2404430728353439,0.012509699999999985,0.10077942545028719,0.34118614974617967,0.1875,0.21578291755746096,0.0374969,0.11858443198670725,0.12562360945587622,0.12500000000000006,0.012500000000000011,0.027951587660140137,0.0374969,0.012500000000000011,0.03749999999999998,0.03750000000000003,0.0,0.04999855,0.06249331063659933,0.08838744277871152,0.025000000000000022,0.0,0.03952899255891172,0.08385476298042051,0.03750495,0.0,0.025000000000000022,0.12311013362880611,0.017678836294352077,0.03952644736072295,0.24558608470359228,0.0,0.17677830078610468,0.5590209522713102,0.3633612734055323,0.062498840006055226,0.03750000000000009,0.05303650888305627,0.09999999999999987,0.25495069131520803,0.0,0.12562280860162298,0.08839181247293214,0.20348616973765682,0.2899338956974891,0.41420002881979917,0.03535198046167288,0.3252400498723366,0.07288116268503474,0.34392263671680584,0.3134980263455617,0.0,0.3946916866408799,0.15052006926892675,0.11319160764367653,0.3134986682761029,0.13050421449194657,0.024999999999999994,0.05303081660327324,0.04506681162019341,0.07288530379719906,0.06731474578456047,0.07500000000000001,0.07500000000000001,0.07500000000000001,0.1457747491969117,0.21249863530952376,0.07288116268503474,0.07288116268503474,0.07500000000000007,0.07905105969207497,0.0625,0.0,0.050000000000000044,0.01250165,0.035357672588704155,0.12500594025089365,0.25,0.1581134244841421,0.09519911383254832,0.11319907263860425,0.06732222009160499,0.14577474919691166,0.45069409249610753,0.0,0.2490612926639194,0.22810440871342774,0.07499999999999996,0.050000000000000044,0.20691329708902229,0.05590317532028037,0.02795380136743479,0.10752918208579475,0.11524027090579059,0.10679613230039042,0.10679613230039042,0.1152352271941614,0.09762954216538403,0.09100473895490277,0.09520038084088737,0.07070965282125562,0.1776626861393242,0.10680178497807269,0.13050525381953976,0.127474556373272,0.04507350967588939,0.0,0.1068017849780729,0.06373964695611357,0.16298080437306092,0.15461375706683578,0.21830462671129994,0.07288530379719906,0.0625,0.0625,0.04999999999999999,0.2855941701895191,0.037500000000000006,0.0,0.017684529795558613,0.04507350967588946,0.0,0.037500000000000006,0.012499999999999997,0.01250165,0.0838511628399392,0.03952552984603749,0.09519594271611578,0.11858443198670726,0.11858443198670726,0.11858443198670726,0.0625,0.09519594271611578,0.053030816603273224,0.04506675629066839,0.017678836294352077,0.01250165,0.02500000000000001,0.02500000000000001,0.05590317532028032,0.07500000000000001,0.037500000000000006,0.045073509675889446,0.012499999999999983,0.037500000000000006,0.045073509675889446,0.037500000000000006,0.012499999999999997,0.051539220528860355,0.0,0.0,null],\"showlegend\":false,\"subplot\":\"polar\",\"theta\":[173.6549283768173,-168.6909783848578,-173.15924188906553,-172.0571764686216,-171.6346186228449,-177.0792691488738,-177.0792691488738,-177.46643301478122,174.04578407849365,175.10934730777245,173.92733023406313,175.1559841978758,177.9831101508572,-176.72978185034503,-176.72978185034503,-156.8022337603722,-57.380170044142716,-16.75565402941042,-9.388950826115675,-6.128904374429574,-5.088176097936077,-4.368087556596226,-4.338078207901769,-4.338078207901769,-3.136267595516304,-3.136267595516304,-4.1509432930941,-10.813671304507194,-8.235264880948852,-11.128874599799637,-14.743002543658251,-19.50209637880656,-11.112567673482847,-12.010764631419573,-12.010764631419573,-7.969201298899823,-4.573055901295129,-1.0810668347940138,-1.0417641404320226,-0.9878907581749493,-0.7958285747401667,-4.3987193756095495,-8.426059516135815,-9.08929815249095,-5.71061129061733,-6.241592329731086,-3.2239112396777156,-2.9351166438798435,-0.6366775993988061,-0.6366775993988061,-1.3800919076117117,-4.184571401010394,-4.898689432988728,-5.855376807536155,-7.926585177225553,-7.926585177225553,-7.4707502828162635,-14.035129003423402,-123.69225370545226,167.46959071524313,161.56416596184346,164.5770822531062,170.53645135696146,170.53645135696146,177.27332967610872,-170.7897218537547,-171.2545495753878,-163.30093098261827,-123.69083442334863,-32.469842786497516,-27.897007779428446,-46.9737984143584,-143.97341699487615,-143.97341699487615,-175.48638315638456,175.51480443772112,172.18368758541294,174.9197251403223,170.07247029461922,175.71028261619193,176.4231947743249,-177.39876847861697,-75.96119461556606,-18.433527875843883,-18.433527875843883,-5.19400185037847,-5.194445438975675,-5.102181493110214,-5.599357140539863,-9.461304817794797,-10.07951679692235,-10.07951679692235,-9.86474786136279,-9.86474786136279,-5.290098037588935,-6.072475693879434,-6.581405321473553,-12.7571742994301,-9.29320714193458,-16.697940614699487,-161.56647212415612,-161.56647212415612,170.13291636471396,164.05382466329485,165.61856129717668,171.86987197733643,-179.18143651688956,-176.93376751126652,-176.09982770326602,-169.99283080127512,-168.6909783848578,-170.7897218537547,-170.7897218537547,-175.8154285989896,-178.75447139692957,173.81101287216453,175.45135976839842,175.12008526284058,172.1462872993547,164.24772676600446,165.61856129717668,160.46201869135757,-164.05747973981045,-14.033681980921568,2.2909120810291403,-4.573055901295129,1.6849065680511024,2.6029052682697427,3.3669040140184308,3.468685947471563,5.5282652672518715,0.0011902736129392566,0.0012299494000252396,0.001366610444423248,0.0015374367498987098,0.0015374367498987098,-9.46055686953809,-2.045678253429228,-3.2698678789697917,-3.0934713297795726,-3.0934713297795726,-4.288800081836061,0.001085249470647422,-5.04203637533282,-5.04203637533282,-4.763249708342178,-14.53373129549484,-17.102261929851238,-21.369014964193536,-44.994556383819095,-44.994556383819095,-149.03561995910295,164.35715848449712,171.36265874878788,174.42751703403337,174.62301929450499,176.51066395595174,176.1345264981719,178.93894830140604,178.93894830140604,179.99916139813627,-170.7543597490336,-159.67680345557906,-107.1037944252324,-19.025662541782616,-21.160700441981835,-12.846883135985541,-9.162375867937058,-1.590326025840071,5.1951108207006795,5.1951108207006795,160.70923918178087,165.96306224414275,158.62959376424257,79.69530387318969,11.311386897962004,8.131161177365968,-11.307838959086327,-22.617309983444493,-6.708573559648869,-25.015751734066214,-18.43405500411382,-25.015751734066214,-18.43405500411382,-1.846664944688615,-11.06931004415042,-6.710000807907912,-11.06931004415042,-9.818504708974341,-3.179567793274694,-2.910597610687939,-2.910597610687939,-3.1218728765441206,-2.0821699406446315,0.0006473417895588592,-5.274025313203453,-7.594828516445469,-16.858449654472413,-15.067740229612202,4.575989003047699,-7.430800507272352,12.996273852052818,177.5101188705607,177.5101188705607,170.5373061440766,170.5370497074957,171.3837781388564,171.86935539931986,168.6894479032791,169.50804972829312,170.76981511023348,173.74564772580143,178.56725391511029,176.02749138796176,178.56725391511029,171.97264437072866,176.08173863659206,170.90950259633456,176.02749138796176,172.4606376684344,167.16408438955963,166.42904287247327,169.48711929955303,169.4126455682971,167.64440061755312,167.64440061755312,168.34966430064637,167.14141259970597,165.79319026118776,165.76195145203164,165.42532440626044,167.47037208752235,165.96284519576926,164.05358099626437,162.1201717522215,174.28865804735076,171.86883882263405,171.86883882263405,165.9576361581588,-170.54243495602648,-170.54243495602648,-173.66302801750763,-174.2923113761436,-168.69216104091367,165.96197700638672,-146.31495716688514,14.03802299361329,-158.20234447343884,14.03802299361329,-158.20234447343884,-90.0,8.131161177365968,-26.56069653236688,0.0,7.125947183060111,0.0,0.0,0.0,9.463548643038537,6.341021834647532,7.595634157952634,16.39158763304681,17.35617779044625,21.04004499153426,10.306177558692916,14.03802299361329,12.530409284756871,12.996273852052818,12.996273852052818,12.996273852052818],\"type\":\"scatterpolar\"}],                        {\"template\":{\"data\":{\"bar\":[{\"error_x\":{\"color\":\"#2a3f5f\"},\"error_y\":{\"color\":\"#2a3f5f\"},\"marker\":{\"line\":{\"color\":\"#E5ECF6\",\"width\":0.5},\"pattern\":{\"fillmode\":\"overlay\",\"size\":10,\"solidity\":0.2}},\"type\":\"bar\"}],\"barpolar\":[{\"marker\":{\"line\":{\"color\":\"#E5ECF6\",\"width\":0.5},\"pattern\":{\"fillmode\":\"overlay\",\"size\":10,\"solidity\":0.2}},\"type\":\"barpolar\"}],\"carpet\":[{\"aaxis\":{\"endlinecolor\":\"#2a3f5f\",\"gridcolor\":\"white\",\"linecolor\":\"white\",\"minorgridcolor\":\"white\",\"startlinecolor\":\"#2a3f5f\"},\"baxis\":{\"endlinecolor\":\"#2a3f5f\",\"gridcolor\":\"white\",\"linecolor\":\"white\",\"minorgridcolor\":\"white\",\"startlinecolor\":\"#2a3f5f\"},\"type\":\"carpet\"}],\"choropleth\":[{\"colorbar\":{\"outlinewidth\":0,\"ticks\":\"\"},\"type\":\"choropleth\"}],\"contour\":[{\"colorbar\":{\"outlinewidth\":0,\"ticks\":\"\"},\"colorscale\":[[0.0,\"#0d0887\"],[0.1111111111111111,\"#46039f\"],[0.2222222222222222,\"#7201a8\"],[0.3333333333333333,\"#9c179e\"],[0.4444444444444444,\"#bd3786\"],[0.5555555555555556,\"#d8576b\"],[0.6666666666666666,\"#ed7953\"],[0.7777777777777778,\"#fb9f3a\"],[0.8888888888888888,\"#fdca26\"],[1.0,\"#f0f921\"]],\"type\":\"contour\"}],\"contourcarpet\":[{\"colorbar\":{\"outlinewidth\":0,\"ticks\":\"\"},\"type\":\"contourcarpet\"}],\"heatmap\":[{\"colorbar\":{\"outlinewidth\":0,\"ticks\":\"\"},\"colorscale\":[[0.0,\"#0d0887\"],[0.1111111111111111,\"#46039f\"],[0.2222222222222222,\"#7201a8\"],[0.3333333333333333,\"#9c179e\"],[0.4444444444444444,\"#bd3786\"],[0.5555555555555556,\"#d8576b\"],[0.6666666666666666,\"#ed7953\"],[0.7777777777777778,\"#fb9f3a\"],[0.8888888888888888,\"#fdca26\"],[1.0,\"#f0f921\"]],\"type\":\"heatmap\"}],\"heatmapgl\":[{\"colorbar\":{\"outlinewidth\":0,\"ticks\":\"\"},\"colorscale\":[[0.0,\"#0d0887\"],[0.1111111111111111,\"#46039f\"],[0.2222222222222222,\"#7201a8\"],[0.3333333333333333,\"#9c179e\"],[0.4444444444444444,\"#bd3786\"],[0.5555555555555556,\"#d8576b\"],[0.6666666666666666,\"#ed7953\"],[0.7777777777777778,\"#fb9f3a\"],[0.8888888888888888,\"#fdca26\"],[1.0,\"#f0f921\"]],\"type\":\"heatmapgl\"}],\"histogram\":[{\"marker\":{\"pattern\":{\"fillmode\":\"overlay\",\"size\":10,\"solidity\":0.2}},\"type\":\"histogram\"}],\"histogram2d\":[{\"colorbar\":{\"outlinewidth\":0,\"ticks\":\"\"},\"colorscale\":[[0.0,\"#0d0887\"],[0.1111111111111111,\"#46039f\"],[0.2222222222222222,\"#7201a8\"],[0.3333333333333333,\"#9c179e\"],[0.4444444444444444,\"#bd3786\"],[0.5555555555555556,\"#d8576b\"],[0.6666666666666666,\"#ed7953\"],[0.7777777777777778,\"#fb9f3a\"],[0.8888888888888888,\"#fdca26\"],[1.0,\"#f0f921\"]],\"type\":\"histogram2d\"}],\"histogram2dcontour\":[{\"colorbar\":{\"outlinewidth\":0,\"ticks\":\"\"},\"colorscale\":[[0.0,\"#0d0887\"],[0.1111111111111111,\"#46039f\"],[0.2222222222222222,\"#7201a8\"],[0.3333333333333333,\"#9c179e\"],[0.4444444444444444,\"#bd3786\"],[0.5555555555555556,\"#d8576b\"],[0.6666666666666666,\"#ed7953\"],[0.7777777777777778,\"#fb9f3a\"],[0.8888888888888888,\"#fdca26\"],[1.0,\"#f0f921\"]],\"type\":\"histogram2dcontour\"}],\"mesh3d\":[{\"colorbar\":{\"outlinewidth\":0,\"ticks\":\"\"},\"type\":\"mesh3d\"}],\"parcoords\":[{\"line\":{\"colorbar\":{\"outlinewidth\":0,\"ticks\":\"\"}},\"type\":\"parcoords\"}],\"pie\":[{\"automargin\":true,\"type\":\"pie\"}],\"scatter\":[{\"marker\":{\"colorbar\":{\"outlinewidth\":0,\"ticks\":\"\"}},\"type\":\"scatter\"}],\"scatter3d\":[{\"line\":{\"colorbar\":{\"outlinewidth\":0,\"ticks\":\"\"}},\"marker\":{\"colorbar\":{\"outlinewidth\":0,\"ticks\":\"\"}},\"type\":\"scatter3d\"}],\"scattercarpet\":[{\"marker\":{\"colorbar\":{\"outlinewidth\":0,\"ticks\":\"\"}},\"type\":\"scattercarpet\"}],\"scattergeo\":[{\"marker\":{\"colorbar\":{\"outlinewidth\":0,\"ticks\":\"\"}},\"type\":\"scattergeo\"}],\"scattergl\":[{\"marker\":{\"colorbar\":{\"outlinewidth\":0,\"ticks\":\"\"}},\"type\":\"scattergl\"}],\"scattermapbox\":[{\"marker\":{\"colorbar\":{\"outlinewidth\":0,\"ticks\":\"\"}},\"type\":\"scattermapbox\"}],\"scatterpolar\":[{\"marker\":{\"colorbar\":{\"outlinewidth\":0,\"ticks\":\"\"}},\"type\":\"scatterpolar\"}],\"scatterpolargl\":[{\"marker\":{\"colorbar\":{\"outlinewidth\":0,\"ticks\":\"\"}},\"type\":\"scatterpolargl\"}],\"scatterternary\":[{\"marker\":{\"colorbar\":{\"outlinewidth\":0,\"ticks\":\"\"}},\"type\":\"scatterternary\"}],\"surface\":[{\"colorbar\":{\"outlinewidth\":0,\"ticks\":\"\"},\"colorscale\":[[0.0,\"#0d0887\"],[0.1111111111111111,\"#46039f\"],[0.2222222222222222,\"#7201a8\"],[0.3333333333333333,\"#9c179e\"],[0.4444444444444444,\"#bd3786\"],[0.5555555555555556,\"#d8576b\"],[0.6666666666666666,\"#ed7953\"],[0.7777777777777778,\"#fb9f3a\"],[0.8888888888888888,\"#fdca26\"],[1.0,\"#f0f921\"]],\"type\":\"surface\"}],\"table\":[{\"cells\":{\"fill\":{\"color\":\"#EBF0F8\"},\"line\":{\"color\":\"white\"}},\"header\":{\"fill\":{\"color\":\"#C8D4E3\"},\"line\":{\"color\":\"white\"}},\"type\":\"table\"}]},\"layout\":{\"annotationdefaults\":{\"arrowcolor\":\"#2a3f5f\",\"arrowhead\":0,\"arrowwidth\":1},\"autotypenumbers\":\"strict\",\"coloraxis\":{\"colorbar\":{\"outlinewidth\":0,\"ticks\":\"\"}},\"colorscale\":{\"diverging\":[[0,\"#8e0152\"],[0.1,\"#c51b7d\"],[0.2,\"#de77ae\"],[0.3,\"#f1b6da\"],[0.4,\"#fde0ef\"],[0.5,\"#f7f7f7\"],[0.6,\"#e6f5d0\"],[0.7,\"#b8e186\"],[0.8,\"#7fbc41\"],[0.9,\"#4d9221\"],[1,\"#276419\"]],\"sequential\":[[0.0,\"#0d0887\"],[0.1111111111111111,\"#46039f\"],[0.2222222222222222,\"#7201a8\"],[0.3333333333333333,\"#9c179e\"],[0.4444444444444444,\"#bd3786\"],[0.5555555555555556,\"#d8576b\"],[0.6666666666666666,\"#ed7953\"],[0.7777777777777778,\"#fb9f3a\"],[0.8888888888888888,\"#fdca26\"],[1.0,\"#f0f921\"]],\"sequentialminus\":[[0.0,\"#0d0887\"],[0.1111111111111111,\"#46039f\"],[0.2222222222222222,\"#7201a8\"],[0.3333333333333333,\"#9c179e\"],[0.4444444444444444,\"#bd3786\"],[0.5555555555555556,\"#d8576b\"],[0.6666666666666666,\"#ed7953\"],[0.7777777777777778,\"#fb9f3a\"],[0.8888888888888888,\"#fdca26\"],[1.0,\"#f0f921\"]]},\"colorway\":[\"#636efa\",\"#EF553B\",\"#00cc96\",\"#ab63fa\",\"#FFA15A\",\"#19d3f3\",\"#FF6692\",\"#B6E880\",\"#FF97FF\",\"#FECB52\"],\"font\":{\"color\":\"#2a3f5f\"},\"geo\":{\"bgcolor\":\"white\",\"lakecolor\":\"white\",\"landcolor\":\"#E5ECF6\",\"showlakes\":true,\"showland\":true,\"subunitcolor\":\"white\"},\"hoverlabel\":{\"align\":\"left\"},\"hovermode\":\"closest\",\"mapbox\":{\"style\":\"light\"},\"paper_bgcolor\":\"white\",\"plot_bgcolor\":\"#E5ECF6\",\"polar\":{\"angularaxis\":{\"gridcolor\":\"white\",\"linecolor\":\"white\",\"ticks\":\"\"},\"bgcolor\":\"#E5ECF6\",\"radialaxis\":{\"gridcolor\":\"white\",\"linecolor\":\"white\",\"ticks\":\"\"}},\"scene\":{\"xaxis\":{\"backgroundcolor\":\"#E5ECF6\",\"gridcolor\":\"white\",\"gridwidth\":2,\"linecolor\":\"white\",\"showbackground\":true,\"ticks\":\"\",\"zerolinecolor\":\"white\"},\"yaxis\":{\"backgroundcolor\":\"#E5ECF6\",\"gridcolor\":\"white\",\"gridwidth\":2,\"linecolor\":\"white\",\"showbackground\":true,\"ticks\":\"\",\"zerolinecolor\":\"white\"},\"zaxis\":{\"backgroundcolor\":\"#E5ECF6\",\"gridcolor\":\"white\",\"gridwidth\":2,\"linecolor\":\"white\",\"showbackground\":true,\"ticks\":\"\",\"zerolinecolor\":\"white\"}},\"shapedefaults\":{\"line\":{\"color\":\"#2a3f5f\"}},\"ternary\":{\"aaxis\":{\"gridcolor\":\"white\",\"linecolor\":\"white\",\"ticks\":\"\"},\"baxis\":{\"gridcolor\":\"white\",\"linecolor\":\"white\",\"ticks\":\"\"},\"bgcolor\":\"#E5ECF6\",\"caxis\":{\"gridcolor\":\"white\",\"linecolor\":\"white\",\"ticks\":\"\"}},\"title\":{\"x\":0.05},\"xaxis\":{\"automargin\":true,\"gridcolor\":\"white\",\"linecolor\":\"white\",\"ticks\":\"\",\"title\":{\"standoff\":15},\"zerolinecolor\":\"white\",\"zerolinewidth\":2},\"yaxis\":{\"automargin\":true,\"gridcolor\":\"white\",\"linecolor\":\"white\",\"ticks\":\"\",\"title\":{\"standoff\":15},\"zerolinecolor\":\"white\",\"zerolinewidth\":2}}},\"polar\":{\"domain\":{\"x\":[0.0,1.0],\"y\":[0.0,1.0]},\"angularaxis\":{\"direction\":\"counterclockwise\",\"rotation\":90}},\"legend\":{\"tracegroupgap\":0},\"margin\":{\"t\":60}},                        {\"responsive\": true}                    ).then(function(){\n",
              "                            \n",
              "var gd = document.getElementById('1e3118ec-6464-4ed9-a895-a5c9e8181c75');\n",
              "var x = new MutationObserver(function (mutations, observer) {{\n",
              "        var display = window.getComputedStyle(gd).display;\n",
              "        if (!display || display === 'none') {{\n",
              "            console.log([gd, 'removed!']);\n",
              "            Plotly.purge(gd);\n",
              "            observer.disconnect();\n",
              "        }}\n",
              "}});\n",
              "\n",
              "// Listen for the removal of the full notebook cells\n",
              "var notebookContainer = gd.closest('#notebook-container');\n",
              "if (notebookContainer) {{\n",
              "    x.observe(notebookContainer, {childList: true});\n",
              "}}\n",
              "\n",
              "// Listen for the clearing of the current output cell\n",
              "var outputEl = gd.closest('.output');\n",
              "if (outputEl) {{\n",
              "    x.observe(outputEl, {childList: true});\n",
              "}}\n",
              "\n",
              "                        })                };                            </script>        </div>\n",
              "</body>\n",
              "</html>"
            ]
          },
          "metadata": {}
        }
      ]
    },
    {
      "cell_type": "markdown",
      "source": [
        "#追加解析したデータを結合してCSV保存\n",
        "_new.csvとして保存"
      ],
      "metadata": {
        "id": "BbYD5bvCfI8v"
      }
    },
    {
      "cell_type": "code",
      "source": [
        "df_new=pd.concat([df_dist_degrees,df_delta_dist_degrees],axis=1)\n",
        "df_new=pd.concat([df_csv,df_new],axis=1)\n",
        "np.savetxt(k+'_new.csv',df_new,delimiter = ',',fmt = '%s')\n",
        "df_new"
      ],
      "metadata": {
        "id": "ppJ_ZRPPfImq",
        "colab": {
          "base_uri": "https://localhost:8080/",
          "height": 424
        },
        "outputId": "8b10b474-0417-4dbd-f674-2c8a0619ae95"
      },
      "execution_count": 26,
      "outputs": [
        {
          "output_type": "execute_result",
          "data": {
            "text/plain": [
              "     frame_num  x_corr    y_corr  distance     degrees  delta_distance  \\\n",
              "0          1.0 -0.1125  0.012510  0.113193  173.654928        0.276700   \n",
              "1          2.0 -0.3750 -0.074994  0.382425 -168.690978        0.072889   \n",
              "2          3.0 -0.3125 -0.037489  0.314741 -173.159242        0.228104   \n",
              "3          4.0 -0.5375 -0.074994  0.542706 -172.057176        0.316474   \n",
              "4          5.0 -0.8500 -0.124992  0.859141 -171.634619        0.380171   \n",
              "..         ...     ...       ...       ...         ...             ...   \n",
              "265      273.0  0.1000  0.025003  0.103078   14.038023        0.012500   \n",
              "266      275.0  0.1125  0.025003  0.115245   12.530409        0.051539   \n",
              "267      277.0  0.1625  0.037505  0.166772   12.996274        0.000000   \n",
              "268      279.0  0.1625  0.037505  0.166772   12.996274        0.000000   \n",
              "269      281.0  0.1625  0.037505  0.166772   12.996274             NaN   \n",
              "\n",
              "     delta_degrees  \n",
              "0       173.654928  \n",
              "1      -168.690978  \n",
              "2      -173.159242  \n",
              "3      -172.057176  \n",
              "4      -171.634619  \n",
              "..             ...  \n",
              "265      14.038023  \n",
              "266      12.530409  \n",
              "267      12.996274  \n",
              "268      12.996274  \n",
              "269      12.996274  \n",
              "\n",
              "[270 rows x 7 columns]"
            ],
            "text/html": [
              "\n",
              "  <div id=\"df-5bea8c85-4589-4457-8cf7-28a1f2e8977f\">\n",
              "    <div class=\"colab-df-container\">\n",
              "      <div>\n",
              "<style scoped>\n",
              "    .dataframe tbody tr th:only-of-type {\n",
              "        vertical-align: middle;\n",
              "    }\n",
              "\n",
              "    .dataframe tbody tr th {\n",
              "        vertical-align: top;\n",
              "    }\n",
              "\n",
              "    .dataframe thead th {\n",
              "        text-align: right;\n",
              "    }\n",
              "</style>\n",
              "<table border=\"1\" class=\"dataframe\">\n",
              "  <thead>\n",
              "    <tr style=\"text-align: right;\">\n",
              "      <th></th>\n",
              "      <th>frame_num</th>\n",
              "      <th>x_corr</th>\n",
              "      <th>y_corr</th>\n",
              "      <th>distance</th>\n",
              "      <th>degrees</th>\n",
              "      <th>delta_distance</th>\n",
              "      <th>delta_degrees</th>\n",
              "    </tr>\n",
              "  </thead>\n",
              "  <tbody>\n",
              "    <tr>\n",
              "      <th>0</th>\n",
              "      <td>1.0</td>\n",
              "      <td>-0.1125</td>\n",
              "      <td>0.012510</td>\n",
              "      <td>0.113193</td>\n",
              "      <td>173.654928</td>\n",
              "      <td>0.276700</td>\n",
              "      <td>173.654928</td>\n",
              "    </tr>\n",
              "    <tr>\n",
              "      <th>1</th>\n",
              "      <td>2.0</td>\n",
              "      <td>-0.3750</td>\n",
              "      <td>-0.074994</td>\n",
              "      <td>0.382425</td>\n",
              "      <td>-168.690978</td>\n",
              "      <td>0.072889</td>\n",
              "      <td>-168.690978</td>\n",
              "    </tr>\n",
              "    <tr>\n",
              "      <th>2</th>\n",
              "      <td>3.0</td>\n",
              "      <td>-0.3125</td>\n",
              "      <td>-0.037489</td>\n",
              "      <td>0.314741</td>\n",
              "      <td>-173.159242</td>\n",
              "      <td>0.228104</td>\n",
              "      <td>-173.159242</td>\n",
              "    </tr>\n",
              "    <tr>\n",
              "      <th>3</th>\n",
              "      <td>4.0</td>\n",
              "      <td>-0.5375</td>\n",
              "      <td>-0.074994</td>\n",
              "      <td>0.542706</td>\n",
              "      <td>-172.057176</td>\n",
              "      <td>0.316474</td>\n",
              "      <td>-172.057176</td>\n",
              "    </tr>\n",
              "    <tr>\n",
              "      <th>4</th>\n",
              "      <td>5.0</td>\n",
              "      <td>-0.8500</td>\n",
              "      <td>-0.124992</td>\n",
              "      <td>0.859141</td>\n",
              "      <td>-171.634619</td>\n",
              "      <td>0.380171</td>\n",
              "      <td>-171.634619</td>\n",
              "    </tr>\n",
              "    <tr>\n",
              "      <th>...</th>\n",
              "      <td>...</td>\n",
              "      <td>...</td>\n",
              "      <td>...</td>\n",
              "      <td>...</td>\n",
              "      <td>...</td>\n",
              "      <td>...</td>\n",
              "      <td>...</td>\n",
              "    </tr>\n",
              "    <tr>\n",
              "      <th>265</th>\n",
              "      <td>273.0</td>\n",
              "      <td>0.1000</td>\n",
              "      <td>0.025003</td>\n",
              "      <td>0.103078</td>\n",
              "      <td>14.038023</td>\n",
              "      <td>0.012500</td>\n",
              "      <td>14.038023</td>\n",
              "    </tr>\n",
              "    <tr>\n",
              "      <th>266</th>\n",
              "      <td>275.0</td>\n",
              "      <td>0.1125</td>\n",
              "      <td>0.025003</td>\n",
              "      <td>0.115245</td>\n",
              "      <td>12.530409</td>\n",
              "      <td>0.051539</td>\n",
              "      <td>12.530409</td>\n",
              "    </tr>\n",
              "    <tr>\n",
              "      <th>267</th>\n",
              "      <td>277.0</td>\n",
              "      <td>0.1625</td>\n",
              "      <td>0.037505</td>\n",
              "      <td>0.166772</td>\n",
              "      <td>12.996274</td>\n",
              "      <td>0.000000</td>\n",
              "      <td>12.996274</td>\n",
              "    </tr>\n",
              "    <tr>\n",
              "      <th>268</th>\n",
              "      <td>279.0</td>\n",
              "      <td>0.1625</td>\n",
              "      <td>0.037505</td>\n",
              "      <td>0.166772</td>\n",
              "      <td>12.996274</td>\n",
              "      <td>0.000000</td>\n",
              "      <td>12.996274</td>\n",
              "    </tr>\n",
              "    <tr>\n",
              "      <th>269</th>\n",
              "      <td>281.0</td>\n",
              "      <td>0.1625</td>\n",
              "      <td>0.037505</td>\n",
              "      <td>0.166772</td>\n",
              "      <td>12.996274</td>\n",
              "      <td>NaN</td>\n",
              "      <td>12.996274</td>\n",
              "    </tr>\n",
              "  </tbody>\n",
              "</table>\n",
              "<p>270 rows × 7 columns</p>\n",
              "</div>\n",
              "      <button class=\"colab-df-convert\" onclick=\"convertToInteractive('df-5bea8c85-4589-4457-8cf7-28a1f2e8977f')\"\n",
              "              title=\"Convert this dataframe to an interactive table.\"\n",
              "              style=\"display:none;\">\n",
              "        \n",
              "  <svg xmlns=\"http://www.w3.org/2000/svg\" height=\"24px\"viewBox=\"0 0 24 24\"\n",
              "       width=\"24px\">\n",
              "    <path d=\"M0 0h24v24H0V0z\" fill=\"none\"/>\n",
              "    <path d=\"M18.56 5.44l.94 2.06.94-2.06 2.06-.94-2.06-.94-.94-2.06-.94 2.06-2.06.94zm-11 1L8.5 8.5l.94-2.06 2.06-.94-2.06-.94L8.5 2.5l-.94 2.06-2.06.94zm10 10l.94 2.06.94-2.06 2.06-.94-2.06-.94-.94-2.06-.94 2.06-2.06.94z\"/><path d=\"M17.41 7.96l-1.37-1.37c-.4-.4-.92-.59-1.43-.59-.52 0-1.04.2-1.43.59L10.3 9.45l-7.72 7.72c-.78.78-.78 2.05 0 2.83L4 21.41c.39.39.9.59 1.41.59.51 0 1.02-.2 1.41-.59l7.78-7.78 2.81-2.81c.8-.78.8-2.07 0-2.86zM5.41 20L4 18.59l7.72-7.72 1.47 1.35L5.41 20z\"/>\n",
              "  </svg>\n",
              "      </button>\n",
              "      \n",
              "  <style>\n",
              "    .colab-df-container {\n",
              "      display:flex;\n",
              "      flex-wrap:wrap;\n",
              "      gap: 12px;\n",
              "    }\n",
              "\n",
              "    .colab-df-convert {\n",
              "      background-color: #E8F0FE;\n",
              "      border: none;\n",
              "      border-radius: 50%;\n",
              "      cursor: pointer;\n",
              "      display: none;\n",
              "      fill: #1967D2;\n",
              "      height: 32px;\n",
              "      padding: 0 0 0 0;\n",
              "      width: 32px;\n",
              "    }\n",
              "\n",
              "    .colab-df-convert:hover {\n",
              "      background-color: #E2EBFA;\n",
              "      box-shadow: 0px 1px 2px rgba(60, 64, 67, 0.3), 0px 1px 3px 1px rgba(60, 64, 67, 0.15);\n",
              "      fill: #174EA6;\n",
              "    }\n",
              "\n",
              "    [theme=dark] .colab-df-convert {\n",
              "      background-color: #3B4455;\n",
              "      fill: #D2E3FC;\n",
              "    }\n",
              "\n",
              "    [theme=dark] .colab-df-convert:hover {\n",
              "      background-color: #434B5C;\n",
              "      box-shadow: 0px 1px 3px 1px rgba(0, 0, 0, 0.15);\n",
              "      filter: drop-shadow(0px 1px 2px rgba(0, 0, 0, 0.3));\n",
              "      fill: #FFFFFF;\n",
              "    }\n",
              "  </style>\n",
              "\n",
              "      <script>\n",
              "        const buttonEl =\n",
              "          document.querySelector('#df-5bea8c85-4589-4457-8cf7-28a1f2e8977f button.colab-df-convert');\n",
              "        buttonEl.style.display =\n",
              "          google.colab.kernel.accessAllowed ? 'block' : 'none';\n",
              "\n",
              "        async function convertToInteractive(key) {\n",
              "          const element = document.querySelector('#df-5bea8c85-4589-4457-8cf7-28a1f2e8977f');\n",
              "          const dataTable =\n",
              "            await google.colab.kernel.invokeFunction('convertToInteractive',\n",
              "                                                     [key], {});\n",
              "          if (!dataTable) return;\n",
              "\n",
              "          const docLinkHtml = 'Like what you see? Visit the ' +\n",
              "            '<a target=\"_blank\" href=https://colab.research.google.com/notebooks/data_table.ipynb>data table notebook</a>'\n",
              "            + ' to learn more about interactive tables.';\n",
              "          element.innerHTML = '';\n",
              "          dataTable['output_type'] = 'display_data';\n",
              "          await google.colab.output.renderOutput(dataTable, element);\n",
              "          const docLink = document.createElement('div');\n",
              "          docLink.innerHTML = docLinkHtml;\n",
              "          element.appendChild(docLink);\n",
              "        }\n",
              "      </script>\n",
              "    </div>\n",
              "  </div>\n",
              "  "
            ]
          },
          "metadata": {},
          "execution_count": 26
        }
      ]
    },
    {
      "cell_type": "code",
      "source": [
        ""
      ],
      "metadata": {
        "id": "ndVR1jwtfkvq"
      },
      "execution_count": 26,
      "outputs": []
    }
  ]
}